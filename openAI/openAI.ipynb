{
 "cells": [
  {
   "cell_type": "code",
   "execution_count": 10,
   "metadata": {},
   "outputs": [
    {
     "name": "stdout",
     "output_type": "stream",
     "text": [
      "Collecting dotenvNote: you may need to restart the kernel to use updated packages.\n",
      "\n",
      "  Using cached dotenv-0.9.9-py2.py3-none-any.whl.metadata (279 bytes)\n",
      "Collecting python-dotenv (from dotenv)\n",
      "  Using cached python_dotenv-1.0.1-py3-none-any.whl.metadata (23 kB)\n",
      "Using cached dotenv-0.9.9-py2.py3-none-any.whl (1.9 kB)\n",
      "Using cached python_dotenv-1.0.1-py3-none-any.whl (19 kB)\n",
      "Installing collected packages: python-dotenv, dotenv\n",
      "Successfully installed dotenv-0.9.9 python-dotenv-1.0.1\n"
     ]
    }
   ],
   "source": [
    "pip install dotenv"
   ]
  },
  {
   "cell_type": "code",
   "execution_count": 11,
   "metadata": {},
   "outputs": [],
   "source": [
    "\n",
    "from dotenv import load_dotenv\n",
    "load_dotenv()  # This reads the .env file in your project directory\n",
    "import os\n",
    "API_KEY = os.environ.get(\"OPENAI_KEY\")"
   ]
  },
  {
   "cell_type": "code",
   "execution_count": 12,
   "metadata": {
    "colab": {
     "base_uri": "https://localhost:8080/"
    },
    "executionInfo": {
     "elapsed": 16405,
     "status": "ok",
     "timestamp": 1738240515079,
     "user": {
      "displayName": "Liam Crowley",
      "userId": "16937767157291902040"
     },
     "user_tz": 0
    },
    "id": "Ra7eaMXH6UiQ",
    "outputId": "785cd33c-6622-4daa-9aa8-7c878c908a7f"
   },
   "outputs": [
    {
     "name": "stdout",
     "output_type": "stream",
     "text": [
      "Sure! Below is a Bash script that takes a matrix represented as a string in the format `\"[1,2],[3,4],[5,6]\"` and prints its transpose in the same format.\n",
      "\n",
      "```bash\n",
      "#!/bin/bash\n",
      "\n",
      "# Check if an argument is provided\n",
      "if [ $# -ne 1 ]; then\n",
      "    echo \"Usage: $0 '<matrix>'\"\n",
      "    echo \"Example: $0 '[1,2],[3,4],[5,6]'\"\n",
      "    exit 1\n",
      "fi\n",
      "\n",
      "# Read the input string\n",
      "input=\"$1\"\n",
      "\n",
      "# Function to split the input into rows\n",
      "split_rows() {\n",
      "    echo \"$input\" | sed 's/\\[//g; s/\\]//g; s/],[/\\n/g'\n",
      "}\n",
      "\n",
      "# Read rows into an array\n",
      "mapfile -t rows <<< \"$(split_rows)\"\n",
      "\n",
      "# Check if there are any rows\n",
      "if [ ${#rows[@]} -eq 0 ]; then\n",
      "    echo \"Invalid matrix format.\"\n",
      "    exit 1\n",
      "fi\n",
      "\n",
      "# Determine the number of columns from the first row\n",
      "IFS=',' read -ra first_row <<< \"${rows[0]}\"\n",
      "num_cols=${#first_row[@]}\n",
      "\n",
      "# Initialize an array for the transposed matrix\n",
      "transpose=()\n",
      "\n",
      "# Iterate over each column index\n",
      "for ((i=0; i<num_cols; i++)); do\n",
      "    transposed_row=\"\"\n",
      "    # Iterate over each row to collect the i-th element\n",
      "    for row in \"${rows[@]}\"; do\n",
      "        IFS=',' read -ra elements <<< \"$row\"\n",
      "        # Check if the current row has enough elements\n",
      "        if [ $i -lt ${#elements[@]} ]; then\n",
      "            transposed_row+=\"${elements[$i]},\"\n",
      "        else\n",
      "            transposed_row+=\"NULL,\"  # Placeholder for missing elements\n",
      "        fi\n",
      "    done\n",
      "    # Remove the trailing comma and add brackets\n",
      "    transposed_row=\"[${transposed_row%,}]\"\n",
      "    transpose+=(\"$transposed_row\")\n",
      "done\n",
      "\n",
      "# Join the transposed rows with commas\n",
      "output=$(IFS=,; echo \"${transpose[*]}\")\n",
      "\n",
      "# Print the transposed matrix\n",
      "echo \"$output\"\n",
      "```\n",
      "\n",
      "### How to Use the Script\n",
      "\n",
      "1. **Save the Script:** Save the above script to a file, for example, `transpose_matrix.sh`.\n",
      "\n",
      "2. **Make It Executable:** Give the script execution permissions.\n",
      "\n",
      "   ```bash\n",
      "   chmod +x transpose_matrix.sh\n",
      "   ```\n",
      "\n",
      "3. **Run the Script:** Provide the matrix string as an argument.\n",
      "\n",
      "   ```bash\n",
      "   ./transpose_matrix.sh '[1,2],[3,4],[5,6]'\n",
      "   ```\n",
      "\n",
      "   **Output:**\n",
      "   ```\n",
      "   [1,3,5],[2,4,6]\n",
      "   ```\n",
      "\n",
      "### Explanation of the Script\n",
      "\n",
      "1. **Input Validation:**\n",
      "   - The script first checks if exactly one argument is provided. If not, it displays usage instructions and exits.\n",
      "\n",
      "2. **Splitting Rows:**\n",
      "   - It removes the square brackets `[` and `]` and replaces `],[` with a newline to split the input into individual rows.\n",
      "   - The `mapfile` command reads these rows into an array called `rows`.\n",
      "\n",
      "3. **Determining Columns:**\n",
      "   - The number of columns is determined based on the first row by splitting it using the comma `,` delimiter.\n",
      "\n",
      "4. **Transposing the Matrix:**\n",
      "   - For each column index, the script collects the corresponding element from each row.\n",
      "   - If a row doesn't have enough elements, it inserts `NULL` as a placeholder (you can modify this behavior as needed).\n",
      "   - Each transposed row is enclosed in square brackets.\n",
      "\n",
      "5. **Formatting the Output:**\n",
      "   - The transposed rows are joined together with commas to form the final transposed matrix string, which is then printed.\n",
      "\n",
      "### Handling Edge Cases\n",
      "\n",
      "- **Uneven Rows:** If the input matrix has rows with different numbers of columns, the script inserts `NULL` for missing elements in the transposed matrix.\n",
      "  \n",
      "  **Example:**\n",
      "  \n",
      "  ```bash\n",
      "  ./transpose_matrix.sh '[1,2,3],[4,5],[6]'\n",
      "  ```\n",
      "  \n",
      "  **Output:**\n",
      "  ```\n",
      "  [1,4,6],[2,5,NULL],[3,NULL,NULL]\n",
      "  ```\n",
      "\n",
      "- **Empty Input or Invalid Format:** The script checks for empty input and invalid formats, providing an error message if the input doesn't conform to the expected structure.\n",
      "\n",
      "### Customization\n",
      "\n",
      "- **Different Delimiters:** If your matrix uses different delimiters (e.g., spaces instead of commas), you can modify the `IFS` and `sed` commands accordingly.\n",
      "- **Placeholder Values:** You can change the placeholder `NULL` to another value or handle missing elements differently based on your requirements.\n",
      "\n",
      "This script provides a flexible way to transpose matrices represented as strings in Bash. It's suitable for small to moderately sized matrices. For larger matrices or more complex operations, you might consider using more powerful tools like `awk` or programming languages like Python.\n"
     ]
    }
   ],
   "source": [
    "import openai\n",
    "\n",
    "# Set your API key\n",
    "openai.api_key = API_KEY\n",
    "\n",
    "\n",
    "\n",
    "prompt = \"\"\"\n",
    "Write a bash script that takes a matrix represented as a string with\n",
    "format '[1,2],[3,4],[5,6]' and prints the transpose in the same format.\n",
    "\"\"\"\n",
    "\n",
    "response = openai.chat.completions.create(\n",
    "    model=\"o1-mini\",\n",
    "    messages=[\n",
    "        {\n",
    "            \"role\": \"user\",\n",
    "            \"content\": prompt\n",
    "        }\n",
    "    ]\n",
    ")\n",
    "\n",
    "print(response.choices[0].message.content)"
   ]
  },
  {
   "cell_type": "code",
   "execution_count": null,
   "metadata": {
    "colab": {
     "base_uri": "https://localhost:8080/"
    },
    "executionInfo": {
     "elapsed": 15917,
     "status": "ok",
     "timestamp": 1738235959879,
     "user": {
      "displayName": "Liam Crowley",
      "userId": "16937767157291902040"
     },
     "user_tz": 0
    },
    "id": "fz5Ny8QR7cWQ",
    "outputId": "18a131f2-96d6-469e-a176-927b46b77e18"
   },
   "outputs": [],
   "source": [
    "response = openai.images.generate(\n",
    "    prompt=\"A futuristic city skyline at sunset\",\n",
    "    n=1,\n",
    "    size=\"1024x1024\"\n",
    ")\n",
    "\n",
    "image_url = response.data[0].url\n",
    "print(\"Generated Image:\", image_url)\n"
   ]
  },
  {
   "cell_type": "code",
   "execution_count": null,
   "metadata": {
    "colab": {
     "base_uri": "https://localhost:8080/"
    },
    "executionInfo": {
     "elapsed": 12503,
     "status": "ok",
     "timestamp": 1738236033605,
     "user": {
      "displayName": "Liam Crowley",
      "userId": "16937767157291902040"
     },
     "user_tz": 0
    },
    "id": "EOS02eLh8ELh",
    "outputId": "2984fc14-385f-4426-cb45-96d8dfc5833c"
   },
   "outputs": [],
   "source": [
    "response = openai.chat.completions.create(\n",
    "    model=\"gpt-4\",\n",
    "    messages=[\n",
    "        {\"role\": \"user\", \"content\": \"Write a Python function to check if a number is prime.\"}\n",
    "    ]\n",
    ")\n",
    "\n",
    "print(response.choices[0].message.content)\n"
   ]
  },
  {
   "cell_type": "markdown",
   "metadata": {
    "id": "Tp1WvgPFRK9o"
   },
   "source": [
    "# Web Scraping"
   ]
  },
  {
   "cell_type": "code",
   "execution_count": null,
   "metadata": {
    "colab": {
     "base_uri": "https://localhost:8080/"
    },
    "executionInfo": {
     "elapsed": 1162,
     "status": "ok",
     "timestamp": 1738258382669,
     "user": {
      "displayName": "Liam Crowley",
      "userId": "16937767157291902040"
     },
     "user_tz": 0
    },
    "id": "Y3K0GHNxRbuU",
    "outputId": "522e82b3-9815-4d6a-abdf-66f36aff625c"
   },
   "outputs": [],
   "source": [
    "import requests\n",
    "from bs4 import BeautifulSoup\n",
    "import csv\n",
    "\n",
    "# Base URL of the website\n",
    "base_url = 'http://quotes.toscrape.com'\n",
    "\n",
    "# Starting page\n",
    "current_page = '/'\n",
    "\n",
    "# List to store scraped data\n",
    "quotes_data = []\n",
    "\n",
    "def scrape_page(page_url):\n",
    "    # Send a GET request to the page\n",
    "    response = requests.get(base_url + page_url)\n",
    "\n",
    "    # Check if the request was successful\n",
    "    if response.status_code != 200:\n",
    "        print(f\"Failed to retrieve page {page_url}\")\n",
    "        return None\n",
    "\n",
    "    # Parse the HTML content using BeautifulSoup\n",
    "    soup = BeautifulSoup(response.text, 'html.parser')\n",
    "\n",
    "    # Find all quote containers\n",
    "    quotes = soup.find_all('div', class_='quote')\n",
    "\n",
    "    for quote in quotes:\n",
    "        # Extract the text of the quote\n",
    "        text = quote.find('span', class_='text').get_text(strip=True)\n",
    "\n",
    "        # Extract the author's name\n",
    "        author = quote.find('small', class_='author').get_text(strip=True)\n",
    "\n",
    "        # Extract tags associated with the quote\n",
    "        tags = [tag.get_text(strip=True) for tag in quote.find_all('a', class_='tag')]\n",
    "\n",
    "        # Append the data to the list\n",
    "        quotes_data.append({\n",
    "            'Quote': text,\n",
    "            'Author': author,\n",
    "            'Tags': ', '.join(tags)\n",
    "        })\n",
    "\n",
    "    # Find the 'Next' button to navigate to the next page\n",
    "    next_button = soup.find('li', class_='next')\n",
    "    if next_button:\n",
    "        next_page = next_button.find('a')['href']\n",
    "        return next_page\n",
    "    else:\n",
    "        return None\n",
    "\n",
    "# Scrape all pages\n",
    "while current_page:\n",
    "    print(f\"Scraping page: {base_url + current_page}\")\n",
    "    next_page = scrape_page(current_page)\n",
    "    current_page = next_page\n",
    "\n",
    "# Define the CSV file headers\n",
    "headers = ['Quote', 'Author', 'Tags']\n",
    "\n",
    "# Write data to CSV\n",
    "with open('quotes.csv', 'w', newline='', encoding='utf-8') as file:\n",
    "    writer = csv.DictWriter(file, fieldnames=headers)\n",
    "    writer.writeheader()\n",
    "    for quote in quotes_data:\n",
    "        writer.writerow(quote)\n",
    "\n",
    "print(f\"Scraping completed. {len(quotes_data)} quotes saved to quotes.csv\")\n",
    "\n"
   ]
  },
  {
   "cell_type": "code",
   "execution_count": null,
   "metadata": {
    "colab": {
     "base_uri": "https://localhost:8080/",
     "height": 1682
    },
    "executionInfo": {
     "elapsed": 870,
     "status": "ok",
     "timestamp": 1738258530389,
     "user": {
      "displayName": "Liam Crowley",
      "userId": "16937767157291902040"
     },
     "user_tz": 0
    },
    "id": "-u6evhmNSDK1",
    "outputId": "3bb76557-8003-44d8-f670-e477f164d284"
   },
   "outputs": [],
   "source": [
    "import pandas as pd\n",
    "\n",
    "# Read the CSV file\n",
    "df = pd.read_csv('quotes.csv')\n",
    "\n",
    "# Display the first few rows\n",
    "df.head()\n"
   ]
  },
  {
   "cell_type": "code",
   "execution_count": null,
   "metadata": {
    "colab": {
     "base_uri": "https://localhost:8080/",
     "height": 17
    },
    "executionInfo": {
     "elapsed": 184,
     "status": "ok",
     "timestamp": 1738258587481,
     "user": {
      "displayName": "Liam Crowley",
      "userId": "16937767157291902040"
     },
     "user_tz": 0
    },
    "id": "BZ62IVcmSQGu",
    "outputId": "6e983e6e-001f-4cc2-c4cb-d5d6c0bd5f81"
   },
   "outputs": [],
   "source": [
    "from google.colab import files\n",
    "files.download('quotes.csv')\n"
   ]
  },
  {
   "cell_type": "code",
   "execution_count": null,
   "metadata": {
    "colab": {
     "base_uri": "https://localhost:8080/"
    },
    "executionInfo": {
     "elapsed": 190,
     "status": "ok",
     "timestamp": 1738258685401,
     "user": {
      "displayName": "Liam Crowley",
      "userId": "16937767157291902040"
     },
     "user_tz": 0
    },
    "id": "XnfP3tcoSjtK",
    "outputId": "392b85d2-a530-476d-9ade-b020aca678c9"
   },
   "outputs": [],
   "source": [
    "import requests\n",
    "import pandas as pd\n",
    "\n",
    "# Define the flight search parameters\n",
    "origin = \"DUB\"  # Dublin Airport\n",
    "destination = \"LON\"  # London (You can use LON for all London airports)\n",
    "date_out = \"2025-04-11\"  # YYYY-MM-DD format\n",
    "adults = 1  # Number of adult passengers\n",
    "\n",
    "# Ryanair API endpoint\n",
    "url = f\"https://www.ryanair.com/api/farfnd/v4/oneWayFares?departureAirportIataCode={origin}&arrivalAirportIataCode={destination}&outboundDepartureDateFrom={date_out}&outboundDepartureDateTo={date_out}&adults={adults}\"\n",
    "\n",
    "# Send request\n",
    "response = requests.get(url)\n",
    "\n",
    "# Check if request was successful\n",
    "if response.status_code == 200:\n",
    "    data = response.json()\n",
    "\n",
    "    # Extract flights\n",
    "    flights = []\n",
    "    for flight in data.get(\"fares\", []):\n",
    "        flights.append({\n",
    "            \"Departure\": flight[\"outbound\"][\"departureAirport\"][\"name\"],\n",
    "            \"Arrival\": flight[\"outbound\"][\"arrivalAirport\"][\"name\"],\n",
    "            \"Departure Time\": flight[\"outbound\"][\"departureDate\"],\n",
    "            \"Price\": flight[\"summary\"][\"price\"][\"value\"],\n",
    "            \"Currency\": flight[\"summary\"][\"price\"][\"currencySymbol\"]\n",
    "        })\n",
    "\n",
    "    # Convert to DataFrame\n",
    "    df = pd.DataFrame(flights)\n",
    "    print(df)\n",
    "\n",
    "    # Save to CSV\n",
    "    df.to_csv(\"ryanair_flights.csv\", index=False)\n",
    "    print(\"Flights saved to ryanair_flights.csv\")\n",
    "\n",
    "else:\n",
    "    print(f\"Failed to retrieve data. Status Code: {response.status_code}\")\n"
   ]
  },
  {
   "cell_type": "code",
   "execution_count": null,
   "metadata": {
    "colab": {
     "base_uri": "https://localhost:8080/",
     "height": 686
    },
    "executionInfo": {
     "elapsed": 1111,
     "status": "error",
     "timestamp": 1738258778081,
     "user": {
      "displayName": "Liam Crowley",
      "userId": "16937767157291902040"
     },
     "user_tz": 0
    },
    "id": "yqZ2GneRS-Ac",
    "outputId": "461cc386-ab28-44e9-8cd3-c1a361f73eeb"
   },
   "outputs": [],
   "source": [
    "from selenium import webdriver\n",
    "from selenium.webdriver.common.by import By\n",
    "from selenium.webdriver.common.keys import Keys\n",
    "import time\n",
    "import pandas as pd\n",
    "\n",
    "# Setup Chrome WebDriver\n",
    "from webdriver_manager.chrome import ChromeDriverManager\n",
    "from selenium.webdriver.chrome.service import Service\n",
    "\n",
    "options = webdriver.ChromeOptions()\n",
    "options.add_argument(\"--headless\")  # Run browser in the background\n",
    "service = Service(ChromeDriverManager().install())\n",
    "driver = webdriver.Chrome(service=service, options=options)\n",
    "\n",
    "# Open Aer Lingus Flight Search\n",
    "driver.get(\"https://www.aerlingus.com/html/en-US/home.html\")\n",
    "\n",
    "# Wait for page to load\n",
    "time.sleep(3)\n",
    "\n",
    "# Enter departure and arrival airports\n",
    "driver.find_element(By.ID, \"origin\").send_keys(\"DUB\")  # Dublin Airport\n",
    "driver.find_element(By.ID, \"destination\").send_keys(\"LHR\")  # London Heathrow\n",
    "\n",
    "# Select departure date\n",
    "driver.find_element(By.ID, \"departureDate\").send_keys(\"10/02/2025\")  # Format: DD/MM/YYYY\n",
    "\n",
    "# Click search button\n",
    "driver.find_element(By.ID, \"search-button\").click()\n",
    "\n",
    "# Wait for results to load\n",
    "time.sleep(5)\n",
    "\n",
    "# Extract flight details\n",
    "flights = []\n",
    "flight_elements = driver.find_elements(By.CLASS_NAME, \"flight-card\")\n",
    "\n",
    "for flight in flight_elements:\n",
    "    try:\n",
    "        departure_time = flight.find_element(By.CLASS_NAME, \"departure-time\").text\n",
    "        arrival_time = flight.find_element(By.CLASS_NAME, \"arrival-time\").text\n",
    "        price = flight.find_element(By.CLASS_NAME, \"price\").text\n",
    "\n",
    "        flights.append({\n",
    "            \"Departure Time\": departure_time,\n",
    "            \"Arrival Time\": arrival_time,\n",
    "            \"Price\": price\n",
    "        })\n",
    "    except:\n",
    "        pass  # Skip if some elements are missing\n",
    "\n",
    "# Close browser\n",
    "driver.quit()\n",
    "\n",
    "# Convert to DataFrame and save\n",
    "df = pd.DataFrame(flights)\n",
    "df.to_csv(\"aerlingus_flights.csv\", index=False)\n",
    "print(\"Flights saved to aerlingus_flights.csv\")\n"
   ]
  }
 ],
 "metadata": {
  "colab": {
   "authorship_tag": "ABX9TyOE2WRj8E/zt8FvUJ6g/kqK",
   "provenance": [],
   "toc_visible": true
  },
  "kernelspec": {
   "display_name": "base",
   "language": "python",
   "name": "python3"
  },
  "language_info": {
   "codemirror_mode": {
    "name": "ipython",
    "version": 3
   },
   "file_extension": ".py",
   "mimetype": "text/x-python",
   "name": "python",
   "nbconvert_exporter": "python",
   "pygments_lexer": "ipython3",
   "version": "3.9.13"
  }
 },
 "nbformat": 4,
 "nbformat_minor": 0
}
