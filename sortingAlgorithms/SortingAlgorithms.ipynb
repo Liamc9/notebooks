{
  "cells": [
    {
      "cell_type": "markdown",
      "metadata": {
        "id": "PUoFtkbGtPU6"
      },
      "source": [
        "# Sorting Algorithms\n"
      ]
    },
    {
      "cell_type": "markdown",
      "metadata": {
        "id": "FkwR-uYotVY8"
      },
      "source": [
        "## Buble Sort\n",
        "Bubble sort starts basically loops through each element in the array, looping through all the elements the first loop, all apart from the last on the second loop and so on. This is because the largest element in the array should be sorted to the end of the array, therefore it is left there.\n",
        "\n",
        "https://www.google.com/url?sa=i&url=https%3A%2F%2Fmedium.com%2F%40dfellows12%2Fcomparing-bubble-selection-and-insertion-sort-89cf3b3dd8eb&psig=AOvVaw2Hkpu6gYDKSIE7lZOuqgjA&ust=1714847779936000&source=images&cd=vfe&opi=89978449&ved=0CBEQjRxqFwoTCLippfiP8oUDFQAAAAAdAAAAABBE"
      ]
    },
    {
      "cell_type": "code",
      "execution_count": null,
      "metadata": {
        "colab": {
          "base_uri": "https://localhost:8080/"
        },
        "id": "yH1qDMG3tLaS",
        "outputId": "d683f753-97ec-4469-b3a4-5971ed71b4fc"
      },
      "outputs": [
        {
          "name": "stdout",
          "output_type": "stream",
          "text": [
            "0\n",
            "[3, 2, 6, 4, 1]\n",
            "1\n",
            "[2, 3, 6, 4, 1]\n",
            "2\n",
            "[2, 3, 6, 4, 1]\n",
            "3\n",
            "[2, 3, 4, 6, 1]\n",
            "0\n",
            "[2, 3, 4, 1, 6]\n",
            "1\n",
            "[2, 3, 4, 1, 6]\n",
            "2\n",
            "[2, 3, 4, 1, 6]\n",
            "0\n",
            "[2, 3, 1, 4, 6]\n",
            "1\n",
            "[2, 3, 1, 4, 6]\n",
            "0\n",
            "[2, 1, 3, 4, 6]\n"
          ]
        },
        {
          "data": {
            "text/plain": [
              "[1, 2, 3, 4, 6]"
            ]
          },
          "execution_count": 3,
          "metadata": {},
          "output_type": "execute_result"
        }
      ],
      "source": [
        "def bubble_sort(arr):\n",
        "    n = len(arr)\n",
        "    for i in range(n):\n",
        "        for j in range(0, n-i-1):\n",
        "            print(j)\n",
        "            print(arr)\n",
        "\n",
        "            if arr[j] > arr[j+1]:\n",
        "                arr[j], arr[j+1] = arr[j+1], arr[j]\n",
        "    return arr\n",
        "arr = [3,2,6,4,1]\n",
        "bubble_sort(arr)"
      ]
    },
    {
      "cell_type": "markdown",
      "metadata": {
        "id": "VyPS7XPHtb15"
      },
      "source": [
        "## Selection Sort\n",
        "Starts at index=0 then loops through index(1,n) and if a number in the loop is smaller than the current min index, it is then set to the min index and is swapped with the element at index 0, therefore being sorted. The next iteration of the loop starts at index=1(unsorted) and loops through index(2,n) repeating above until the whole array is sorted.\n",
        "https://www.google.com/search?sca_esv=2b629f2852664d00&rlz=1C1GCEA_enIE1097IE1097&sxsrf=ACQVn0-KKYNEV3YgMckA6sYpJRKB8nBOjg:1714761579805&q=selection+sort&tbm=vid&source=lnms&prmd=ivnbz&sa=X&ved=2ahUKEwj4vNrWkPKFAxVhQ0EAHR9SAGUQ0pQJegQIDxAB&biw=1920&bih=953&dpr=1#fpstate=ive&vld=cid:4fa0b447,vid:g-PGLbMth_g,st:0"
      ]
    },
    {
      "cell_type": "code",
      "execution_count": null,
      "metadata": {
        "id": "D3vFIyJAtcLf"
      },
      "outputs": [],
      "source": [
        "def selection_sort(arr):\n",
        "    n = len(arr)\n",
        "    for i in range(n):\n",
        "        min_idx = i\n",
        "        for j in range(i+1, n):\n",
        "            print('min_idx',min_idx)\n",
        "            print('j',j)\n",
        "            if arr[j] < arr[min_idx]:\n",
        "                min_idx = j\n",
        "        arr[i], arr[min_idx] = arr[min_idx], arr[i]\n",
        "    return arr\n",
        "arr = [5,7,1,8,3]\n",
        "selection_sort(arr)\n"
      ]
    },
    {
      "cell_type": "markdown",
      "metadata": {
        "id": "yOvIYSyrtcll"
      },
      "source": [
        "## Insertion Sort\n",
        "Start with the number in index=1(not the index), if that is less than the number in index=0\n",
        "\n",
        "https://www.google.com/search?sca_esv=2b629f2852664d00&rlz=1C1GCEA_enIE1097IE1097&sxsrf=ACQVn09P3r63zTHtY9y0L3ohQ8BQlFnbgg:1714762011403&q=insertion+sort&tbm=vid&source=lnms&prmd=ivnbz&sa=X&sqi=2&ved=2ahUKEwiBmMGkkvKFAxU8QUEAHdhkAI4Q0pQJegQIDhAB&biw=1920&bih=953&dpr=1#fpstate=ive&vld=cid:ab7c7c75,vid:JU767SDMDvA,st:0"
      ]
    },
    {
      "cell_type": "code",
      "execution_count": null,
      "metadata": {
        "id": "8x9uABzjtc_y"
      },
      "outputs": [],
      "source": [
        "def insertion_sort(arr):\n",
        "    n = len(arr)\n",
        "    for i in range(1, n): # loops through with i starting a index 1 and ending in index n which is technically outside the array\n",
        "        print('start of outer loop')\n",
        "        key = arr[i] # the key is the number in the array, not the index\n",
        "        print('key',key)\n",
        "        j = i - 1 #this means that j starts at index 0 and goes through to the last element in the arr (n-1)\n",
        "        print('j',j)\n",
        "        print('arr',arr)\n",
        "        print('arr[j]',arr[j])\n",
        "        print('start of while loop')\n",
        "        while j >= 0 and key < arr[j]:\n",
        "            arr[j + 1] = arr[j] #\n",
        "            print('key',key)\n",
        "            print('j',j)\n",
        "            print('arr',arr)\n",
        "            j -= 1\n",
        "        arr[j + 1] = key #\n",
        "    return arr\n",
        "arr = [9,7,2,4,3]\n",
        "insertion_sort(arr)"
      ]
    },
    {
      "cell_type": "markdown",
      "metadata": {
        "id": "zqUAP7s4tdSo"
      },
      "source": [
        "## Merge Sort"
      ]
    },
    {
      "cell_type": "code",
      "execution_count": null,
      "metadata": {
        "id": "ZMB_wXSxtdlE"
      },
      "outputs": [],
      "source": [
        "def merge_sort(arr):\n",
        "    if len(arr) > 1:\n",
        "        mid = len(arr) // 2\n",
        "        L = arr[:mid]\n",
        "        R = arr[mid:]\n",
        "\n",
        "        merge_sort(L)\n",
        "        merge_sort(R)\n",
        "\n",
        "        i = j = k = 0\n",
        "\n",
        "        while i < len(L) and j < len(R):\n",
        "            if L[i] < R[j]:\n",
        "                arr[k] = L[i]\n",
        "                i += 1\n",
        "            else:\n",
        "                arr[k] = R[j]\n",
        "                j += 1\n",
        "            k += 1\n",
        "\n",
        "        while i < len(L):\n",
        "            arr[k] = L[i]\n",
        "            i += 1\n",
        "            k += 1\n",
        "\n",
        "        while j < len(R):\n",
        "            arr[k] = R[j]\n",
        "            j += 1\n",
        "            k += 1\n",
        "    return arr\n"
      ]
    }
  ],
  "metadata": {
    "colab": {
      "provenance": [],
      "toc_visible": true,
      "authorship_tag": "ABX9TyM//HBv5c+Vcpa9T5R8nK/C"
    },
    "kernelspec": {
      "display_name": "base",
      "language": "python",
      "name": "python3"
    },
    "language_info": {
      "codemirror_mode": {
        "name": "ipython",
        "version": 3
      },
      "file_extension": ".py",
      "mimetype": "text/x-python",
      "name": "python",
      "nbconvert_exporter": "python",
      "pygments_lexer": "ipython3",
      "version": "3.9.13"
    }
  },
  "nbformat": 4,
  "nbformat_minor": 0
}