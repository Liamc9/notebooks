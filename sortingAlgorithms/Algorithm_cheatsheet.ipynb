{
 "cells": [
  {
   "cell_type": "code",
   "execution_count": null,
   "metadata": {
    "id": "p5rNU9i9vMwK"
   },
   "outputs": [],
   "source": [
    "#how to swap 2 elements in a list\n",
    "list[el1],list[el2] = list[el2],list[el1]"
   ]
  },
  {
   "cell_type": "code",
   "execution_count": null,
   "metadata": {
    "id": "SlNwL69Dvbib"
   },
   "outputs": [],
   "source": [
    "for i in range(len(list)-1): #use the minus 1 because list starts at index 0 so last index will be 1 less than length\n",
    "  i #index of list\n",
    "  list[i] #element at index i"
   ]
  },
  {
   "cell_type": "code",
   "execution_count": null,
   "metadata": {
    "id": "kwDPjDnov-1G"
   },
   "outputs": [],
   "source": [
    "def factorial_recursive(n):     #recursively calling a function\n",
    "    # Base case: 1! = 1\n",
    "    if n == 1:\n",
    "        return 1\n",
    "    # Recursive case: n! = n * (n-1)!\n",
    "    else:\n",
    "        return n * factorial_recursive(n-1)"
   ]
  },
  {
   "cell_type": "code",
   "execution_count": null,
   "metadata": {
    "colab": {
     "base_uri": "https://localhost:8080/"
    },
    "executionInfo": {
     "elapsed": 261,
     "status": "ok",
     "timestamp": 1697550804306,
     "user": {
      "displayName": "Liam Crowley",
      "userId": "16937767157291902040"
     },
     "user_tz": -60
    },
    "id": "vbRQR6_l6JP_",
    "outputId": "efe663aa-5f04-413a-cc43-555b78ad7e54"
   },
   "outputs": [],
   "source": [
    "#dictionary contains keys and values\n",
    "thisdict = {\n",
    "  \"brand\": \"Ford\",\n",
    "  \"model\": \"Mustang\",\n",
    "  \"year\": 1964\n",
    "}\n",
    "print(thisdict['brand'])\n"
   ]
  },
  {
   "cell_type": "code",
   "execution_count": null,
   "metadata": {
    "colab": {
     "base_uri": "https://localhost:8080/"
    },
    "executionInfo": {
     "elapsed": 369,
     "status": "ok",
     "timestamp": 1697550919229,
     "user": {
      "displayName": "Liam Crowley",
      "userId": "16937767157291902040"
     },
     "user_tz": -60
    },
    "id": "d-_M55TR60XX",
    "outputId": "604a5f89-bfd3-46f6-a1bf-672c6fc938c2"
   },
   "outputs": [],
   "source": [
    "# working of set() on list and tuple\n",
    "\n",
    "# initializing list\n",
    "lis1 = [ 3, 4, 1, 4, 5 ]\n",
    "\n",
    "# initializing tuple\n",
    "tup1 = (3, 4, 1, 4, 5)\n",
    "\n",
    "# Printing iterables before conversion\n",
    "print(\"The list before conversion is : \" + str(lis1))\n",
    "print(\"The tuple before conversion is : \" + str(tup1))\n",
    "\n",
    "# Iterables after conversion are\n",
    "# notice distinct and elements\n",
    "print(\"The list after conversion is : \" + str(set(lis1)))\n",
    "print(\"The tuple after conversion is : \" + str(set(tup1)))"
   ]
  },
  {
   "cell_type": "code",
   "execution_count": null,
   "metadata": {
    "colab": {
     "base_uri": "https://localhost:8080/"
    },
    "executionInfo": {
     "elapsed": 231,
     "status": "ok",
     "timestamp": 1698161887124,
     "user": {
      "displayName": "Liam Crowley",
      "userId": "16937767157291902040"
     },
     "user_tz": -60
    },
    "id": "lRWfgeL38V3X",
    "outputId": "dee1eb3a-3d95-4308-bbbf-8cbd8e7ca5da"
   },
   "outputs": [],
   "source": [
    "#to remove the element in a list\n",
    "list=[1,2,3,4,5]\n",
    "list.pop(2) #if parentheses empty it removes the last element in the list\n",
    "print(list)"
   ]
  },
  {
   "cell_type": "code",
   "execution_count": null,
   "metadata": {
    "id": "4rttY6rFMkJs"
   },
   "outputs": [],
   "source": [
    "# use while when using pop() as it updates the length of the array on each iteration\n",
    "def removeDuplicates(self, nums):\n",
    "        i = 0\n",
    "        while i < (len(nums)-2):\n",
    "            if nums[i]==nums[i+2]:\n",
    "                nums.pop(i+2)\n",
    "            else:\n",
    "                i+=1\n"
   ]
  },
  {
   "cell_type": "markdown",
   "metadata": {
    "id": "HXBVloRq7RY9"
   },
   "source": [
    "# Sorting Algorithms"
   ]
  },
  {
   "cell_type": "markdown",
   "metadata": {
    "id": "YrSZbcph7cEd"
   },
   "source": [
    "## Bubble sort"
   ]
  },
  {
   "cell_type": "markdown",
   "metadata": {
    "id": "1Gi0dPyy8NtX"
   },
   "source": [
    "### How bubble sort works\n",
    "\n",
    "1.   Start with the first element in the list and compare it with the second\n",
    "2.   If it is greater than the second then swap\n",
    "3.   Then do this with 2 and 3 etc. until the largest element is at the end of the least\n",
    "4.   Keep repeating until entire list is sorted\n",
    "\n",
    "\n",
    "\n"
   ]
  },
  {
   "cell_type": "code",
   "execution_count": null,
   "metadata": {
    "id": "itJ_y2rc79ar"
   },
   "outputs": [],
   "source": [
    "def bubble_sort(arr):\n",
    "    n = len(arr)\n",
    "    # Traverse through all elements in the list\n",
    "    for i in range(n):\n",
    "        # Last i elements are already sorted, no need to compare them\n",
    "        for j in range(0, n-i-1):\n",
    "            # Traverse the list from 0 to n-i-1, swap if the element found is greater\n",
    "            # than the next element\n",
    "            if arr[j] > arr[j+1]:\n",
    "                arr[j], arr[j+1] = arr[j+1], arr[j]\n",
    "\n",
    "# Example usage:\n",
    "arr = [64, 34, 25, 12, 22, 11, 90]\n",
    "bubble_sort(arr)\n",
    "print(\"Sorted array is:\", arr)\n"
   ]
  },
  {
   "cell_type": "markdown",
   "metadata": {
    "id": "D5j0-IEj9SfF"
   },
   "source": [
    "### Time Complexity\n",
    "Is O(n)^2 in average and worst cases making it inneficient in large lists.\n",
    "\n",
    "However only O(n) when list is already sorted"
   ]
  },
  {
   "cell_type": "markdown",
   "metadata": {
    "id": "c0uGXsrJ7ty8"
   },
   "source": [
    "## Insertion sort"
   ]
  },
  {
   "cell_type": "markdown",
   "metadata": {
    "id": "7jgfvRkM9y8_"
   },
   "source": [
    "### How Insertion sort works\n",
    "\n",
    "NEED TO FIGURE OUT"
   ]
  },
  {
   "cell_type": "code",
   "execution_count": null,
   "metadata": {
    "id": "uQLA_WWi-OaL"
   },
   "outputs": [],
   "source": [
    "def insertion_sort(arr):\n",
    "    # Traverse from 1 to len(arr)\n",
    "    for i in range(1, len(arr)):\n",
    "        key = arr[i]\n",
    "        # Move elements of arr[0..i-1], that are greater than key,\n",
    "        # to one position ahead of their current position\n",
    "        j = i-1\n",
    "        while j >= 0 and key < arr[j]:\n",
    "            arr[j + 1] = arr[j]\n",
    "            j -= 1\n",
    "        arr[j + 1] = key\n",
    "\n",
    "# Example usage:\n",
    "arr = [12, 11, 13, 5, 6]\n",
    "insertion_sort(arr)\n",
    "print(\"Sorted array is:\", arr)\n"
   ]
  },
  {
   "cell_type": "markdown",
   "metadata": {
    "id": "pVQq5off-O2c"
   },
   "source": [
    "### Time complexity\n",
    "Is O(n)^2 due to nested loops making it inefficient on large lists.\n",
    "\n",
    "Its space complexity is only O(1) however meaning it requires a constant amount of storage space making it a good choice for small arrays or lists that are partially sorted/\n"
   ]
  },
  {
   "cell_type": "markdown",
   "metadata": {
    "id": "uzxgd6cl7sG5"
   },
   "source": [
    "## Selection sort"
   ]
  },
  {
   "cell_type": "markdown",
   "metadata": {
    "id": "hPAdb1MvFbNd"
   },
   "source": [
    "### How selection sort works\n",
    "\n",
    "\n",
    "\n",
    "1.   Divide array into sorted and unsorted part, where the sorted part is initially empty\n",
    "2.   Find the minimum element in the unsorted array and swap it with the first element, now the first element in the unsorted array is now considered sorted. This minimum is found by starting at the first element in the unsorted array and iterating through the unsorted array, if there is an element smaller than this first element it is now given the new tag of minimum element in the unsorted array and the iteration continues, if an element is found which is smaller than the new tagged element it is now given the tag of the minimum element in the unsorted array. Once the end of the unsorted list is reached the minimum element of the unsorted array is swapped with the 1st element of the unsorted array and therefore becomes the next value in the sorted array.\n",
    "3.   Repeat the process for the rest of the unsorted array\n",
    "\n"
   ]
  },
  {
   "cell_type": "code",
   "execution_count": null,
   "metadata": {
    "colab": {
     "base_uri": "https://localhost:8080/"
    },
    "executionInfo": {
     "elapsed": 195,
     "status": "ok",
     "timestamp": 1698074774398,
     "user": {
      "displayName": "Liam Crowley",
      "userId": "16937767157291902040"
     },
     "user_tz": -60
    },
    "id": "w8TwWrEAFbqV",
    "outputId": "3e143260-9277-4d04-98d6-9320c2e5b47b"
   },
   "outputs": [],
   "source": [
    "def selection_sort(arr):\n",
    "    for i in range(len(arr)):\n",
    "        # Assume the minimum is the first element\n",
    "        min_idx = i\n",
    "        # Iterate through the unsorted part of the array\n",
    "        for j in range(i + 1, len(arr)):\n",
    "            # Update min_idx if a smaller element is found, (This just tags the place in the list\n",
    "            # where the minimum element is and then continues on searching for an element smaller than this new minimum)\n",
    "            if arr[min_idx] > arr[j]:\n",
    "                min_idx = j\n",
    "        # Swap the found minimum element with the first element of the unsorted part\n",
    "        arr[i], arr[min_idx] = arr[min_idx], arr[i]\n",
    "\n",
    "# Example usage:\n",
    "arr = [64, 25, 12, 22, 11]\n",
    "selection_sort(arr)\n",
    "print(\"Sorted array is:\", arr)\n"
   ]
  },
  {
   "cell_type": "markdown",
   "metadata": {
    "id": "8HD5TMVGFcFN"
   },
   "source": [
    "### Time complexity\n",
    "Is O(n)^2 as tehre are two nested loops\n",
    "It's inefficient on large lists, and generally performs worse than the similar insertion sort.\n",
    "\n",
    "It has a space complexity of O(1) as it requires a constant amount of storage space"
   ]
  },
  {
   "cell_type": "markdown",
   "metadata": {
    "id": "QyRHZJHK7rzo"
   },
   "source": [
    "## Merge sort"
   ]
  },
  {
   "cell_type": "markdown",
   "metadata": {
    "id": "kSSXgZkTJsvX"
   },
   "source": []
  },
  {
   "cell_type": "code",
   "execution_count": null,
   "metadata": {
    "colab": {
     "base_uri": "https://localhost:8080/"
    },
    "executionInfo": {
     "elapsed": 194,
     "status": "ok",
     "timestamp": 1698076957550,
     "user": {
      "displayName": "Liam Crowley",
      "userId": "16937767157291902040"
     },
     "user_tz": -60
    },
    "id": "I-Pc3UINJtL_",
    "outputId": "7ff8014d-e0f4-4ca4-d1c7-98d4eb162d97"
   },
   "outputs": [],
   "source": [
    "def merge_sort(arr):\n",
    "    if len(arr) > 1:\n",
    "        # Finding the middle of the array\n",
    "        mid = len(arr) // 2\n",
    "\n",
    "        # Dividing the array into two halves\n",
    "        L = arr[:mid]  # First half\n",
    "        R = arr[mid:]  # Second half\n",
    "        # Sorting the first half\n",
    "        merge_sort(L)\n",
    "        # Sorting the second half\n",
    "        merge_sort(R)\n",
    "        # Pointers for traversing the two halves\n",
    "        i = j = k = 0\n",
    "\n",
    "        # Copy data to the temporary arrays L[] and R[]\n",
    "        while i < len(L) and j < len(R):\n",
    "            if L[i] < R[j]:\n",
    "                arr[k] = L[i]\n",
    "                i += 1\n",
    "            else:\n",
    "                arr[k] = R[j]\n",
    "                j += 1\n",
    "            k += 1\n",
    "\n",
    "        # If all elements in R[] added to new array but elements still in L[] put at end of new array\n",
    "        while i < len(L):\n",
    "            arr[k] = L[i]\n",
    "            i += 1\n",
    "            k += 1\n",
    "\n",
    "        # If all elements in L[] added to new array but elements still in R[] put at end of new array\n",
    "        while j < len(R):\n",
    "            arr[k] = R[j]\n",
    "            j += 1\n",
    "            k += 1\n",
    "        print(arr)\n",
    "# Example usage:\n",
    "arr = [38, 27, 43, 3, 9, 82, 10]\n",
    "merge_sort(arr)\n",
    "print(\"Sorted array is:\", arr)\n"
   ]
  },
  {
   "cell_type": "markdown",
   "metadata": {
    "id": "YSVvP-y8Jtio"
   },
   "source": [
    "Time Complexity: O(n log n), as each divide step takes O(log n) time and the merge step takes O(n) time.\n",
    "\n",
    "Space Complexity: O(n), as additional space is required for the temporary arrays L[ ] and R[ ]."
   ]
  },
  {
   "cell_type": "markdown",
   "metadata": {
    "id": "mHDVciPy76O8"
   },
   "source": [
    "## Quick sort"
   ]
  },
  {
   "cell_type": "markdown",
   "metadata": {
    "id": "EynzYLuESxDT"
   },
   "source": [
    "### How to use quicksort\n",
    "\n",
    "1.  Choose a Pivot: Select an element from the array to serve as the pivot.\n",
    "2.  Partition: Reorder the array so that all elements with values less than the pivot come before the pivot, while all elements with values greater than the pivot come after it. After this step, the pivot is in its final sorted position.\n",
    "3.  Recursively Apply: Recursively apply the above steps to the sub-array of elements with smaller values and the sub-array of elements with greater values."
   ]
  },
  {
   "cell_type": "code",
   "execution_count": null,
   "metadata": {
    "colab": {
     "base_uri": "https://localhost:8080/"
    },
    "executionInfo": {
     "elapsed": 188,
     "status": "ok",
     "timestamp": 1698090943275,
     "user": {
      "displayName": "Liam Crowley",
      "userId": "16937767157291902040"
     },
     "user_tz": -60
    },
    "id": "5QIpdqEQ7rQ0",
    "outputId": "9f9e9519-7373-404b-d09b-345c1477cbc0"
   },
   "outputs": [],
   "source": [
    "def quick_sort(arr):\n",
    "    if len(arr) <= 1:\n",
    "        return arr\n",
    "    else:\n",
    "        pivot = arr.pop()\n",
    "        less_than_pivot = []\n",
    "        greater_than_pivot = []\n",
    "        for element in arr:\n",
    "            if element <= pivot:\n",
    "                less_than_pivot.append(element)\n",
    "            else:\n",
    "                greater_than_pivot.append(element)\n",
    "        return quick_sort(less_than_pivot) + [pivot] + quick_sort(greater_than_pivot)\n",
    "\n",
    "# Example usage:\n",
    "arr = [64, 34, 25, 12, 22, 11, 90]\n",
    "sorted_arr = quick_sort(arr)\n",
    "print(\"Sorted array is:\", sorted_arr)\n"
   ]
  },
  {
   "cell_type": "markdown",
   "metadata": {
    "id": "XybaJg8_TKu5"
   },
   "source": [
    "Time Complexity:\n",
    "Average Case: O(n log n)\n",
    "Worst Case: O(n^2) (occurs when the smallest or largest element is always chosen as the pivot)\n",
    "\n",
    "Space Complexity: O(log n) (because it sorts in place and only needs to store recursive function calls on the stack)"
   ]
  },
  {
   "cell_type": "markdown",
   "metadata": {
    "id": "T8H7LdSv7Vtf"
   },
   "source": [
    "# Search Algorithms"
   ]
  },
  {
   "cell_type": "markdown",
   "metadata": {
    "id": "B5r0GOjxCZHA"
   },
   "source": [
    "## Linear search"
   ]
  },
  {
   "cell_type": "markdown",
   "metadata": {
    "id": "OOvjftzmC8ua"
   },
   "source": [
    "### How Linear search works\n",
    "\n",
    "\n",
    "\n",
    "1.   Start at the first element, if this is equal to target value, return index of element. If not, continue iteration\n",
    "2.   If end of list reached and no value equals target, return that target not in list (e.g. -1)\n",
    "\n"
   ]
  },
  {
   "cell_type": "code",
   "execution_count": null,
   "metadata": {
    "colab": {
     "base_uri": "https://localhost:8080/"
    },
    "executionInfo": {
     "elapsed": 7,
     "status": "ok",
     "timestamp": 1698157065979,
     "user": {
      "displayName": "Liam Crowley",
      "userId": "16937767157291902040"
     },
     "user_tz": -60
    },
    "id": "FyGwNRQNC8SQ",
    "outputId": "824740e0-b4e6-4cf6-9720-736ad7e7dc86"
   },
   "outputs": [],
   "source": [
    "def linear_search(arr, target):\n",
    "    for i in range(len(arr)):\n",
    "        if arr[i] == target:\n",
    "            return i  # Target found, return the index\n",
    "    return -1  # Target not found, return -1\n",
    "\n",
    "arr = [1, 3, 5, 7, 9, 11]\n",
    "target = 7\n",
    "result = linear_search(arr, target)\n",
    "if result != -1:\n",
    "    print(f\"Element found at index {result}\")\n",
    "else:\n",
    "    print(\"Element not found\")\n"
   ]
  },
  {
   "cell_type": "markdown",
   "metadata": {
    "id": "5_Td7qGgDI6Z"
   },
   "source": [
    "Linear search has a time complexity of O(n) because at its worst it has to look through each element of the list once\n"
   ]
  },
  {
   "cell_type": "markdown",
   "metadata": {
    "id": "yMqAuTfKCdVY"
   },
   "source": [
    "## Binary search"
   ]
  },
  {
   "cell_type": "markdown",
   "metadata": {
    "id": "WZJn6b2iERAc"
   },
   "source": [
    "### How binary search works\n",
    "\n",
    "\n",
    "\n",
    "1.   List must be sorted\n",
    "2.   set 2 pointers at the first and last indices (not elements) of the list\n",
    "3.   calculate the midpoint (1st + last)//2\n",
    "4.   If target is midpoint, return midpoint. If target greater than midpoint, set first pointer to index (midpoint+1). If target is less than midpoint, set last pointer to be (midpoint-1)\n",
    "5.   repeat this process until you find target or when 1st pointer greater than last pointer indicating the target is not in the list\n",
    "\n",
    "\n"
   ]
  },
  {
   "cell_type": "code",
   "execution_count": null,
   "metadata": {
    "colab": {
     "base_uri": "https://localhost:8080/"
    },
    "executionInfo": {
     "elapsed": 309,
     "status": "ok",
     "timestamp": 1698157695754,
     "user": {
      "displayName": "Liam Crowley",
      "userId": "16937767157291902040"
     },
     "user_tz": -60
    },
    "id": "3dMHLpjuFcdS",
    "outputId": "b67de75a-4091-4e36-bbdf-9f8a8a5d192c"
   },
   "outputs": [],
   "source": [
    "def binary_search(arr, target):\n",
    "    low = 0\n",
    "    high = len(arr) - 1\n",
    "\n",
    "    while low <= high:\n",
    "        mid = (low + high) // 2\n",
    "        if arr[mid] == target:\n",
    "            return mid  # Target found, return the index\n",
    "        elif arr[mid] < target:\n",
    "            low = mid + 1\n",
    "        else:\n",
    "            high = mid - 1\n",
    "\n",
    "    return -1  # Target not found, return -1\n",
    "\n",
    "arr = [1, 3, 5, 7, 9, 11]\n",
    "target = 7\n",
    "result = binary_search(arr, target)\n",
    "if result != -1:\n",
    "    print(f\"Element found at index {result}\")\n",
    "else:\n",
    "    print(\"Element not found\")\n"
   ]
  },
  {
   "cell_type": "markdown",
   "metadata": {
    "id": "pPYqG7f2FjGS"
   },
   "source": [
    "Time complexity is O(log n), making it more efficient than linear search.\n",
    "\n",
    "However if the list is not sorted, you have to sort it first which could take O(nlog n) with an efficient sorting algorithm."
   ]
  },
  {
   "cell_type": "markdown",
   "metadata": {
    "id": "khmBix6jJETU"
   },
   "source": [
    "# Dynamic Programming"
   ]
  },
  {
   "cell_type": "markdown",
   "metadata": {
    "id": "tQkR50RzJG7r"
   },
   "source": [
    "## Fibonacci sequence"
   ]
  },
  {
   "cell_type": "markdown",
   "metadata": {
    "id": "6-hHCjdeJbXO"
   },
   "source": [
    "Top-down Approach (Memoization) to calculate Fibbonaci number"
   ]
  },
  {
   "cell_type": "code",
   "execution_count": null,
   "metadata": {
    "id": "0GrtkiisJawY"
   },
   "outputs": [],
   "source": [
    "def fibonacci(n, memo={}):\n",
    "    if n in memo:\n",
    "        return memo[n]\n",
    "    if n == 0:\n",
    "        return 0\n",
    "    if n == 1:\n",
    "        return 1\n",
    "    memo[n] = fibonacci(n-1, memo) + fibonacci(n-2, memo)\n",
    "    return memo[n]\n",
    "\n",
    "print(fibonacci(10))  # Output: 55\n"
   ]
  },
  {
   "cell_type": "markdown",
   "metadata": {
    "id": "iKSKT0suJk9B"
   },
   "source": [
    "Bottom-up Approach (Tabulation) to calculate Fibbonaci number"
   ]
  },
  {
   "cell_type": "code",
   "execution_count": null,
   "metadata": {
    "id": "tj3Ys9NiJaj4"
   },
   "outputs": [],
   "source": [
    "def fibonacci(n):\n",
    "    if n == 0:\n",
    "        return 0\n",
    "    elif n == 1:\n",
    "        return 1\n",
    "\n",
    "    fib = [0] * (n + 1)\n",
    "    fib[1] = 1\n",
    "\n",
    "    for i in range(2, n + 1):\n",
    "        fib[i] = fib[i - 1] + fib[i - 2]\n",
    "\n",
    "    return fib[n]\n",
    "\n",
    "print(fibonacci(10))  # Output: 55\n"
   ]
  },
  {
   "cell_type": "markdown",
   "metadata": {
    "id": "v_IsDNwGJST1"
   },
   "source": [
    "## Longest Common Subsequence (LCS)"
   ]
  },
  {
   "cell_type": "markdown",
   "metadata": {
    "id": "eyq2VpZ3KWII"
   },
   "source": [
    "Given two sequences, find the length of the longest subsequence present in both of them."
   ]
  },
  {
   "cell_type": "code",
   "execution_count": null,
   "metadata": {
    "id": "ZiiAqPB-KQwC"
   },
   "outputs": [],
   "source": [
    "def lcs(X , Y):\n",
    "    m = len(X)\n",
    "    n = len(Y)\n",
    "\n",
    "    dp = [[None]*(n + 1) for i in range(m + 1)]\n",
    "\n",
    "    for i in range(m + 1):\n",
    "        for j in range(n + 1):\n",
    "            if i == 0 or j == 0:\n",
    "                dp[i][j] = 0\n",
    "            elif X[i-1] == Y[j-1]:\n",
    "                dp[i][j] = dp[i-1][j-1] + 1\n",
    "            else:\n",
    "                dp[i][j] = max(dp[i-1][j], dp[i][j-1])\n",
    "\n",
    "    return dp[m][n]\n",
    "\n",
    "X = \"AGGTAB\"\n",
    "Y = \"GXTXAYB\"\n",
    "print(\"Length of LCS is \", lcs(X, Y))  # Output: 4\n"
   ]
  },
  {
   "cell_type": "code",
   "execution_count": null,
   "metadata": {
    "colab": {
     "base_uri": "https://localhost:8080/"
    },
    "executionInfo": {
     "elapsed": 5,
     "status": "ok",
     "timestamp": 1698165303612,
     "user": {
      "displayName": "Liam Crowley",
      "userId": "16937767157291902040"
     },
     "user_tz": -60
    },
    "id": "x7sGepKfUqDH",
    "outputId": "4f867a85-20b3-4f9a-a77b-1b7b174870e0"
   },
   "outputs": [],
   "source": [
    "nums=[1,2,3,4,5,6,7]\n",
    "k=3\n",
    "temp=nums[0]\n",
    "k = k % len(nums)\n",
    "new_arr = [0]*len(nums)\n",
    "for j in range(k):\n",
    "  for i in range(len(nums)):\n",
    "      if i<len(nums)-1:\n",
    "        temp,nums[i+1]=nums[i+1],temp\n",
    "      else:\n",
    "        nums[0]=temp\n",
    "print(nums)"
   ]
  }
 ],
 "metadata": {
  "colab": {
   "authorship_tag": "ABX9TyOrdyX0Dmap+cGM/aYm74r0",
   "provenance": [],
   "toc_visible": true
  },
  "kernelspec": {
   "display_name": "Python 3",
   "name": "python3"
  },
  "language_info": {
   "name": "python"
  }
 },
 "nbformat": 4,
 "nbformat_minor": 0
}
