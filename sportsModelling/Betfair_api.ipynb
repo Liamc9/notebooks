{
 "cells": [
  {
   "cell_type": "code",
   "execution_count": null,
   "metadata": {
    "colab": {
     "base_uri": "https://localhost:8080/"
    },
    "executionInfo": {
     "elapsed": 336,
     "status": "ok",
     "timestamp": 1698491762839,
     "user": {
      "displayName": "Liam Crowley",
      "userId": "16937767157291902040"
     },
     "user_tz": -60
    },
    "id": "GsFOAht-Zhgs",
    "outputId": "efd1b58a-98af-4e65-907f-dcc20a8e8829"
   },
   "outputs": [],
   "source": []
  },
  {
   "cell_type": "markdown",
   "metadata": {
    "id": "QzzBulD_njT1"
   },
   "source": [
    "List Events"
   ]
  },
  {
   "cell_type": "markdown",
   "metadata": {
    "id": "lGvgzbvjn1FD"
   },
   "source": []
  },
  {
   "cell_type": "code",
   "execution_count": null,
   "metadata": {
    "colab": {
     "base_uri": "https://localhost:8080/"
    },
    "executionInfo": {
     "elapsed": 966,
     "status": "ok",
     "timestamp": 1701790835877,
     "user": {
      "displayName": "Liam Crowley",
      "userId": "16937767157291902040"
     },
     "user_tz": 0
    },
    "id": "cnZ7AL11JPRn",
    "outputId": "fcc3df6d-c973-44e0-f018-a8b6a33ca7e5"
   },
   "outputs": [],
   "source": [
    "import requests\n",
    "import json\n",
    "\n",
    "endpoint = \"https://api.betfair.com/exchange/betting/rest/v1.0/\"\n",
    "\n",
    "header = { 'X-Application' : 'LSB9i14sUoasmmSQ', 'X-Authentication' : 'cdpEeFvqM6i3dx3O8wgXZf/614hf8FUhMkZem6QEToY=', 'content-type' : 'application/json' }\n",
    "\n",
    "json_req='{\"filter\":{ }}'\n",
    "\n",
    "url = endpoint + \"listEvents/\"\n",
    "\n",
    "response = requests.post(url, data=json_req, headers=header)\n",
    "\n",
    "\n",
    "print(json.dumps(json.loads(response.text), indent=3))"
   ]
  },
  {
   "cell_type": "markdown",
   "metadata": {
    "id": "v7zwbsMGn-ez"
   },
   "source": [
    "List event types"
   ]
  },
  {
   "cell_type": "code",
   "execution_count": null,
   "metadata": {
    "colab": {
     "base_uri": "https://localhost:8080/"
    },
    "executionInfo": {
     "elapsed": 299,
     "status": "ok",
     "timestamp": 1701791068657,
     "user": {
      "displayName": "Liam Crowley",
      "userId": "16937767157291902040"
     },
     "user_tz": 0
    },
    "id": "1J1JzDxvn7UI",
    "outputId": "0fd4882c-bc5b-40b8-cff6-b85a851929c6"
   },
   "outputs": [],
   "source": [
    "import requests\n",
    "import json\n",
    "\n",
    "endpoint = \"https://api.betfair.com/exchange/betting/rest/v1.0/\"\n",
    "\n",
    "header = { 'X-Application' : 'LSB9i14sUoasmmSQ', 'X-Authentication' : 'cdpEeFvqM6i3dx3O8wgXZf/614hf8FUhMkZem6QEToY=', 'content-type' : 'application/json' }\n",
    "\n",
    "json_req='{\"filter\":{ }}'\n",
    "\n",
    "url = endpoint + \"listMarketTypes/\"\n",
    "\n",
    "response = requests.post(url, data=json_req, headers=header)\n",
    "\n",
    "\n",
    "print(json.dumps(json.loads(response.text), indent=3))"
   ]
  },
  {
   "cell_type": "markdown",
   "metadata": {
    "id": "5OnrABmBoB1y"
   },
   "source": [
    "List market catalogue"
   ]
  },
  {
   "cell_type": "code",
   "execution_count": null,
   "metadata": {
    "id": "KCafJJEGn3Hy"
   },
   "outputs": [],
   "source": []
  }
 ],
 "metadata": {
  "colab": {
   "authorship_tag": "ABX9TyOod4YQKFH8Q0/4U1pxdvNQ",
   "provenance": []
  },
  "kernelspec": {
   "display_name": "Python 3",
   "name": "python3"
  },
  "language_info": {
   "name": "python"
  }
 },
 "nbformat": 4,
 "nbformat_minor": 0
}
