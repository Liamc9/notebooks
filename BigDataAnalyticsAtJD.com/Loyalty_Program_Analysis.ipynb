{
 "cells": [
  {
   "cell_type": "markdown",
   "id": "345c2ce6-230f-41d5-908c-abd51268d8a9",
   "metadata": {
    "tags": []
   },
   "source": [
    "# Loyalty Program Analysis"
   ]
  },
  {
   "cell_type": "markdown",
   "id": "c864429d-c839-44f6-b1ae-7ae7ae7fec74",
   "metadata": {
    "tags": []
   },
   "source": [
    "# Prerequisites"
   ]
  },
  {
   "cell_type": "markdown",
   "id": "ea5be09a-2589-46fa-a6bc-9b5fdfb2a14f",
   "metadata": {
    "tags": []
   },
   "source": [
    "## Importing Libraries"
   ]
  },
  {
   "cell_type": "code",
   "execution_count": 1,
   "id": "56d99f76-91fd-4a04-9839-91176f956dce",
   "metadata": {
    "tags": []
   },
   "outputs": [],
   "source": [
    "import pandas as pd\n",
    "import numpy as np\n",
    "import datetime as dt\n",
    "import matplotlib.pyplot as plt\n",
    "import seaborn as sns\n",
    "from scipy.stats import gaussian_kde\n",
    "import matplotlib.ticker as ticker\n",
    "from scipy.stats import ttest_ind_from_stats\n",
    "from scipy import stats\n",
    "from sklearn.linear_model import LinearRegression\n",
    "from sklearn.mixture import GaussianMixture\n",
    "from sklearn.linear_model import LogisticRegression\n",
    "from sklearn.metrics import classification_report, confusion_matrix\n",
    "from sklearn.model_selection import train_test_split,GridSearchCV, RandomizedSearchCV\n",
    "from sklearn.metrics import accuracy_score\n",
    "import statsmodels.api as sm\n",
    "from sklearn.tree import DecisionTreeClassifier\n",
    "from sklearn.ensemble import RandomForestClassifier\n",
    "from datetime import datetime\n",
    "from sklearn.metrics import f1_score\n",
    "from imblearn.over_sampling import SMOTE\n",
    "from sklearn.preprocessing import StandardScaler\n",
    "from sklearn.linear_model import Lasso\n",
    "from sklearn.feature_selection import RFE"
   ]
  },
  {
   "cell_type": "markdown",
   "id": "4c7ef99d-f8aa-423e-b9a1-c22f58ae89b7",
   "metadata": {
    "jp-MarkdownHeadingCollapsed": true,
    "tags": []
   },
   "source": [
    "## Tables"
   ]
  },
  {
   "cell_type": "code",
   "execution_count": 2,
   "id": "87400848-a84a-4612-9eac-9a27886b0a77",
   "metadata": {
    "tags": []
   },
   "outputs": [],
   "source": [
    "skus = pd.read_csv('../../JD_sku_data.csv')\n",
    "users = pd.read_csv('../../JD_user_data.csv')\n",
    "clicks = pd.read_csv('../../JD_click_data.csv')\n",
    "orders = pd.read_csv('../../JD_order_data.csv')\n",
    "delivery = pd.read_csv('../../JD_delivery_data.csv')\n",
    "inventory = pd.read_csv('../../JD_inventory_data.csv')\n",
    "network = pd.read_csv('../../JD_network_data.csv')"
   ]
  },
  {
   "cell_type": "markdown",
   "id": "e5c1ea54-463c-4d28-9fd9-d628541012b5",
   "metadata": {
    "jp-MarkdownHeadingCollapsed": true,
    "tags": []
   },
   "source": [
    "## Data Preparation"
   ]
  },
  {
   "cell_type": "code",
   "execution_count": 3,
   "id": "0f114822-8062-4e23-b66a-62b54ffb3a78",
   "metadata": {
    "tags": []
   },
   "outputs": [],
   "source": [
    "users = pd.DataFrame(users)\n",
    "orders = pd.DataFrame(orders)\n",
    "orders = orders[orders['gift_item'] == 0]\n",
    "users_orders = pd.merge(orders, users, how='left', on='user_ID' )\n",
    "plus_orders = users_orders.loc[users_orders['plus'] == 1]\n",
    "ord_orders = users_orders.loc[users_orders['plus'] == 0]"
   ]
  },
  {
   "cell_type": "markdown",
   "id": "1c1195b0-7e73-496e-89f2-0161436435e9",
   "metadata": {
    "tags": []
   },
   "source": [
    "# Impact of PLUS Memberships"
   ]
  },
  {
   "cell_type": "markdown",
   "id": "a5b86dbc-3c96-4ab9-b764-84bd5ed85ac1",
   "metadata": {
    "tags": []
   },
   "source": [
    "## 1) Data Preparation"
   ]
  },
  {
   "cell_type": "code",
   "execution_count": 4,
   "id": "43da4b84-407d-4b54-8a1c-cdf6cbeae542",
   "metadata": {},
   "outputs": [],
   "source": [
    "plus_orders_impact =  plus_orders.groupby('user_ID').agg({'plus':'count', 'final_unit_price': 'sum'}).reset_index().rename(columns={'plus':'purchase frequency','final_unit_price':'total_expenditure'})\n",
    "ord_orders_impact =  ord_orders.groupby('user_ID').agg({'plus':'count', 'final_unit_price': 'sum'}).reset_index().rename(columns={'plus':'purchase frequency','final_unit_price':'total_expenditure'})\n",
    "plus_orders_impact['aov'] = plus_orders_impact[\"total_expenditure\"]/plus_orders_impact[\"purchase frequency\"]\n",
    "ord_orders_impact['aov'] = ord_orders_impact[\"total_expenditure\"]/ord_orders_impact[\"purchase frequency\"]"
   ]
  },
  {
   "cell_type": "markdown",
   "id": "e54d582d-ffdb-4628-a24f-afe9da5e96cc",
   "metadata": {
    "tags": []
   },
   "source": [
    "## Purchase Frequency"
   ]
  },
  {
   "cell_type": "code",
   "execution_count": 5,
   "id": "18866ea0-5233-4ae9-986b-c5e04dffa6e5",
   "metadata": {},
   "outputs": [
    {
     "name": "stdout",
     "output_type": "stream",
     "text": [
      "0.0715657726950083\n",
      "Test statistic: 18.769217530842496\n",
      "p-value: 0.0\n",
      "Reject null hypothesis. There is a significant difference between the two sample means.\n",
      "mean 1.1861805278576243 std dev 0.6657377261000181 std err 0.0024689317375866096 ci (1.1813414960700672, 1.1910195596451814)\n",
      "mean 1.114614755162616 std dev 1.6721512720135265 std err 0.002905655808327333 ci (1.1089197573600684, 1.1203097529651636)\n"
     ]
    }
   ],
   "source": [
    "# Define the two samples\n",
    "sample1 = plus_orders_impact['purchase frequency']\n",
    "sample2 = ord_orders_impact['purchase frequency']\n",
    "\n",
    "# Calculate the means and standard deviations of the two samples\n",
    "mean1 = np.mean(sample1)\n",
    "mean2 = np.mean(sample2)\n",
    "std1 = np.std(sample1, ddof=1)\n",
    "std2 = np.std(sample2, ddof=1)\n",
    "se1 = np.std(sample1, ddof=1) / np.sqrt(len(sample1))\n",
    "se2 = np.std(sample2, ddof=1) / np.sqrt(len(sample2))\n",
    "\n",
    "# Calculate the test statistic and p-value\n",
    "n1, n2 = len(sample1), len(sample2)\n",
    "\n",
    "se = np.sqrt(std1**2/n1 + std2**2/n2)\n",
    "\n",
    "z = (mean1 - mean2) / se\n",
    "print(mean1 - mean2)\n",
    "p_value = (1 - stats.norm.cdf(abs(z)))\n",
    "\n",
    "# Print the test statistic and p-value\n",
    "print(\"Test statistic:\", z)\n",
    "print(\"p-value:\", p_value)\n",
    "\n",
    "# Calculate the critical value for a 95% confidence level\n",
    "alpha = 0.05\n",
    "df = n1 + n2 - 2\n",
    "cv = stats.t.ppf(1 - alpha/2, df)\n",
    "\n",
    "\n",
    "# Calculate the confidence intervals for each sample\n",
    "ci1 = (mean1 - cv * se1, mean1 + cv * se1)\n",
    "ci2 = (mean2 - cv * se2, mean2 + cv * se2)\n",
    "\n",
    "if p_value < alpha:\n",
    "    print(\"Reject null hypothesis. There is a significant difference between the two sample means.\")\n",
    "else:\n",
    "    print(\"Fail to reject null hypothesis. There is no significant difference between the two sample means.\")\n",
    "    \n",
    "print('mean', mean1, 'std dev', std1, 'std err', se1, 'ci', ci1)\n",
    "print('mean', mean2, 'std dev', std2, 'std err', se2, 'ci', ci2)"
   ]
  },
  {
   "cell_type": "markdown",
   "id": "3b8211aa-5b12-48f6-a645-900995cfaeb7",
   "metadata": {
    "tags": []
   },
   "source": [
    "## Average Order Value"
   ]
  },
  {
   "cell_type": "code",
   "execution_count": 6,
   "id": "999b8b26-eaf5-475b-88b9-8274bf4d81b4",
   "metadata": {},
   "outputs": [
    {
     "name": "stdout",
     "output_type": "stream",
     "text": [
      "9.867409820220985\n",
      "Test statistic: 33.18515780671655\n",
      "p-value: 0.0\n",
      "Reject null hypothesis. There is a significant difference between the two sample means.\n",
      "mean 94.3755752159518 std dev 74.7288143929754 std err 0.27713667760405286 ci (93.83239568125357, 94.91875475065002)\n",
      "mean 84.50816539573081 std dev 62.00464853586108 std err 0.10774394050161164 ci (84.29699051994685, 84.71934027151478)\n"
     ]
    }
   ],
   "source": [
    "# Define the two samples\n",
    "sample1 = plus_orders_impact['aov']\n",
    "sample2 = ord_orders_impact['aov']\n",
    "\n",
    "# Means and standard deviations of the two samples\n",
    "mean1 = np.mean(sample1)\n",
    "mean2 = np.mean(sample2)\n",
    "std1 = np.std(sample1, ddof=1)\n",
    "std2 = np.std(sample2, ddof=1)\n",
    "se1 = np.std(sample1, ddof=1) / np.sqrt(len(sample1))\n",
    "se2 = np.std(sample2, ddof=1) / np.sqrt(len(sample2))\n",
    "\n",
    "# Test statistic and p-value\n",
    "n1, n2 = len(sample1), len(sample2)\n",
    "\n",
    "se = np.sqrt(std1**2/n1 + std2**2/n2)\n",
    "\n",
    "z = (mean1 - mean2) / se\n",
    "print(mean1 - mean2)\n",
    "\n",
    "p_value = (1 - stats.norm.cdf(abs(z)))\n",
    "\n",
    "print(\"Test statistic:\", z)\n",
    "print(\"p-value:\", p_value)\n",
    "\n",
    "# Critical value for a 95% confidence level\n",
    "alpha = 0.05\n",
    "df = n1 + n2 - 2\n",
    "cv = stats.t.ppf(1 - alpha/2, df)\n",
    "\n",
    "# Confidence intervals for each sample\n",
    "ci1 = (mean1 - cv * se1, mean1 + cv * se1)\n",
    "ci2 = (mean2 - cv * se2, mean2 + cv * se2)\n",
    "# Hypothesis\n",
    "if p_value < alpha:\n",
    "    print(\"Reject null hypothesis. There is a significant difference between the two sample means.\")\n",
    "else:\n",
    "    print(\"Fail to reject null hypothesis. There is no significant difference between the two sample means.\")\n",
    "    \n",
    "print('mean', mean1, 'std dev', std1, 'std err', se1, 'ci', ci1)\n",
    "print('mean', mean2, 'std dev', std2, 'std err', se2, 'ci', ci2)"
   ]
  },
  {
   "cell_type": "markdown",
   "id": "e4237442-1bc3-49d3-a52c-639d889cf16f",
   "metadata": {
    "tags": []
   },
   "source": [
    "## Average total spend of each customer"
   ]
  },
  {
   "cell_type": "code",
   "execution_count": 21,
   "id": "4d22c80f-0587-47b1-be0b-1d0f5902564d",
   "metadata": {},
   "outputs": [
    {
     "name": "stdout",
     "output_type": "stream",
     "text": [
      "16.840852767257232\n",
      "Test statistic: 20.281566432103663\n",
      "p-value: 0.0\n",
      "Reject null hypothesis. There is a significant difference between the two sample means.\n",
      "mean 111.32254986199308 std dev 198.36371616009808 std err 0.7356447670200233 ci (109.88070829231096, 112.76439143167521)\n",
      "mean 94.48169709473585 std dev 221.6256490206024 std err 0.38511339561736674 ci (93.72688644734706, 95.23650774212464)\n"
     ]
    }
   ],
   "source": [
    "# Define the two samples\n",
    "sample1 = plus_orders_impact['total_expenditure']\n",
    "sample2 = ord_orders_impact['total_expenditure']\n",
    "\n",
    "# Means and standard deviations of the two samples\n",
    "mean1 = np.mean(sample1)\n",
    "mean2 = np.mean(sample2)\n",
    "std1 = np.std(sample1, ddof=1)\n",
    "std2 = np.std(sample2, ddof=1)\n",
    "se1 = np.std(sample1, ddof=1) / np.sqrt(len(sample1))\n",
    "se2 = np.std(sample2, ddof=1) / np.sqrt(len(sample2))\n",
    "\n",
    "# Test statistic and p-value\n",
    "n1, n2 = len(sample1), len(sample2)\n",
    "\n",
    "se = np.sqrt(std1**2/n1 + std2**2/n2)\n",
    "\n",
    "z = (mean1 - mean2) / se\n",
    "print(mean1 - mean2)\n",
    "p_value = (1 - stats.norm.cdf(abs(z)))\n",
    "\n",
    "print(\"Test statistic:\", z)\n",
    "print(\"p-value:\", p_value)\n",
    "\n",
    "# Critical value for a 95% confidence level\n",
    "alpha = 0.05\n",
    "df = n1 + n2 - 2\n",
    "cv = stats.t.ppf(1 - alpha/2, df)\n",
    "\n",
    "# Confidence intervals for each sample\n",
    "ci1 = (mean1 - cv * se1, mean1 + cv * se1)\n",
    "ci2 = (mean2 - cv * se2, mean2 + cv * se2)\n",
    "\n",
    "if p_value < alpha:\n",
    "    print(\"Reject null hypothesis. There is a significant difference between the two sample means.\")\n",
    "else:\n",
    "    print(\"Fail to reject null hypothesis. There is no significant difference between the two sample means.\")\n",
    "    \n",
    "print('mean', mean1, 'std dev', std1, 'std err', se1, 'ci', ci1)\n",
    "print('mean', mean2, 'std dev', std2, 'std err', se2, 'ci', ci2)"
   ]
  },
  {
   "cell_type": "markdown",
   "id": "1944498b-10c9-4dca-a654-7135bf24ef22",
   "metadata": {
    "tags": []
   },
   "source": [
    "# PLUS Member Demographic"
   ]
  },
  {
   "cell_type": "markdown",
   "id": "6364acaf-0d75-4c69-9e44-648ee310d56f",
   "metadata": {
    "tags": []
   },
   "source": [
    "## Data Prep"
   ]
  },
  {
   "cell_type": "code",
   "execution_count": 8,
   "id": "2e393773-db0d-405f-b07a-ecde913c43da",
   "metadata": {},
   "outputs": [],
   "source": [
    "# no unknown values\n",
    "users1 = users.drop(users[users['gender']=='U'].index)\n",
    "users1 = users1.drop(users1[users1['age']=='U'].index)\n",
    "users1 = users1.drop(users1[users1['marital_status']=='U'].index)\n",
    "users1 = users1.drop(users1[users1['education']== -1].index)\n",
    "users1 = users1.drop(users1[users1['user_level']== 10].index)\n",
    "users1 = users1.drop(users1[users1['education']== -1].index)\n",
    "users1 = users1.drop(users1[users1['purchase_power']== -1].index)\n",
    "users1 = users1.drop(users1[users1['city_level']== -1].index)\n",
    "\n",
    "# Create dummy values for gender, age, marital_status (only strings are categories)\n",
    "dummy1_vars = pd.get_dummies(users1[['age', 'marital_status', 'gender']])\n",
    "users1_dummy = users1.drop(['age','gender','marital_status'],axis=1)\n",
    "users1_dummy = pd.concat([users1_dummy, dummy1_vars], axis=1)"
   ]
  },
  {
   "cell_type": "markdown",
   "id": "d8178d9b-db87-418a-ad2f-8d339c00eba4",
   "metadata": {
    "tags": []
   },
   "source": [
    "## Random Forest"
   ]
  },
  {
   "cell_type": "code",
   "execution_count": 24,
   "id": "1975e750-9530-4d2a-8dd3-0bbe09feb7aa",
   "metadata": {},
   "outputs": [
    {
     "name": "stdout",
     "output_type": "stream",
     "text": [
      "Accuracy: 0.808478006514246\n",
      "Random Forest\n",
      "user_level importance: 50.47%\n",
      "education importance: 21.67%\n",
      "purchase_power importance: 11.06%\n",
      "city_level importance: 2.83%\n",
      "age_<=15 importance: 0.01%\n",
      "age_16-25 importance: 0.79%\n",
      "age_26-35 importance: 0.62%\n",
      "age_36-45 importance: 0.45%\n",
      "age_46-55 importance: 0.27%\n",
      "age_>=56 importance: 0.27%\n",
      "gender_M importance: 3.26%\n",
      "gender_F importance: 2.69%\n",
      "marital_status_S importance: 2.59%\n",
      "marital_status_M importance: 3.02%\n"
     ]
    }
   ],
   "source": [
    "X = (users1_dummy[['user_level','education','purchase_power','city_level',\n",
    "                   'age_<=15','age_16-25','age_26-35','age_36-45','age_46-55',\n",
    "                   'age_>=56','gender_M','gender_F','marital_status_S',\n",
    "                   'marital_status_M']])\n",
    "y = (users1_dummy['plus'])\n",
    "\n",
    "# Split the data into training and testing sets\n",
    "X_train, X_test, y_train, y_test = train_test_split(X, y, test_size=0.2, random_state=42)\n",
    "\n",
    "\n",
    "# Fit the random forest model\n",
    "model1 = RandomForestClassifier()\n",
    "model1.fit(X_train, y_train)\n",
    "\n",
    "# Make predictions on the test data\n",
    "y_pred = model1.predict(X_test)\n",
    "# Calculate the accuracy of the model\n",
    "accuracy = accuracy_score(y_test, y_pred)\n",
    "\n",
    "# Print the accuracy of the model\n",
    "print(\"Accuracy:\", accuracy)\n",
    "\n",
    "# Extract the feature importance values\n",
    "importances = model1.feature_importances_\n",
    "\n",
    "model6 = pd.DataFrame(importances)*100\n",
    "model6[0] = model6[[0]].applymap(\"{:.2f}%\".format)\n",
    "model6 = model6.to_numpy()\n",
    "\n",
    "attributes = ['user_level','education','purchase_power','city_level',\n",
    "              'age_<=15','age_16-25','age_26-35','age_36-45','age_46-55',\n",
    "              'age_>=56','gender_M','gender_F','marital_status_S',\n",
    "              'marital_status_M']\n",
    "# Print the feature importance values\n",
    "print('Random Forest')\n",
    "for i, importance in enumerate(importances):\n",
    "    print(attributes[i], \"importance:\", model6[i,0])"
   ]
  },
  {
   "cell_type": "markdown",
   "id": "1d1d52b9-347a-49cb-b5e6-df50b938569b",
   "metadata": {
    "tags": []
   },
   "source": [
    "#### Importance pie chart"
   ]
  },
  {
   "cell_type": "code",
   "execution_count": 10,
   "id": "62d2b7a2-eff4-44e0-b8f6-b7d3aadbbe4b",
   "metadata": {},
   "outputs": [
    {
     "data": {
      "image/png": "[encoded data removed]",
      "text/plain": [
       "<Figure size 1200x500 with 1 Axes>"
      ]
     },
     "metadata": {},
     "output_type": "display_data"
    }
   ],
   "source": [
    "fig, ax = plt.subplots(figsize=(12, 5), subplot_kw=dict(aspect=\"equal\"))\n",
    "colors = sns.color_palette('pastel')[0:5]\n",
    "wedges, texts = ax.pie(model1.feature_importances_, colors = colors)\n",
    "bbox_props = dict(boxstyle=\"square,pad=0.3\", fc=\"w\", ec=\"k\", lw=0.72)\n",
    "kw = dict(arrowprops=dict(arrowstyle=\"-\"),\n",
    "          bbox=bbox_props, zorder=0, va=\"center\")\n",
    "\n",
    "# label wedges\n",
    "for i, p in enumerate(wedges[0:3]):\n",
    "    ang = (p.theta2 - p.theta1)/2. + p.theta1\n",
    "    y = np.sin(np.deg2rad(ang))\n",
    "    x = np.cos(np.deg2rad(ang))\n",
    "    horizontalalignment = {-1: \"right\", 1: \"left\"}[int(np.sign(x))]\n",
    "    connectionstyle = \"angle,angleA=0,angleB={}\".format(ang)\n",
    "    kw[\"arrowprops\"].update({\"connectionstyle\": connectionstyle})\n",
    "    \n",
    "    ax.annotate(attributes[i], xy=(x, y), xytext=(1*np.sign(x), 1.4*y),\n",
    "                horizontalalignment=horizontalalignment, **kw)\n",
    "       \n",
    "#percentages\n",
    "bbox_props = dict(boxstyle=\"square,pad=0.3\", fc=\"w\", ec=\"k\", lw=0.72)\n",
    "kw = dict(\n",
    "          bbox=bbox_props, zorder=10, va=\"center\")\n",
    "    \n",
    "for i, p in enumerate(wedges[0:3]):\n",
    "    ang = (p.theta2 - p.theta1)/2. + p.theta1\n",
    "    y = np.sin(np.deg2rad(ang))/2\n",
    "    x = np.cos(np.deg2rad(ang))/2.5\n",
    "    horizontalalignment = {-1: \"left\", 1: \"left\"}[int(np.sign(x))]\n",
    "    if (i == 1):\n",
    "        ax.annotate(model6[i,0], xy=(x, y), xytext=(x-0.25, y*1.2))\n",
    "    else:\n",
    "        ax.annotate(model6[i,0], xy=(x, y), xytext=(x-0.12, y-0.1))"
   ]
  },
  {
   "cell_type": "markdown",
   "id": "68d5f2de-0092-4ce4-a2b6-704052c544a6",
   "metadata": {
    "tags": []
   },
   "source": [
    "## Logistic Regression"
   ]
  },
  {
   "cell_type": "code",
   "execution_count": 11,
   "id": "c4ddda89-2c34-4d25-9fa6-fa68bac5f17a",
   "metadata": {
    "tags": []
   },
   "outputs": [
    {
     "name": "stdout",
     "output_type": "stream",
     "text": [
      "Accuracy: 0.7104480915789141\n",
      "              precision    recall  f1-score   support\n",
      "\n",
      "           0       0.92      0.68      0.78    242751\n",
      "           1       0.43      0.80      0.56     73478\n",
      "\n",
      "    accuracy                           0.71    316229\n",
      "   macro avg       0.68      0.74      0.67    316229\n",
      "weighted avg       0.81      0.71      0.73    316229\n",
      "\n",
      "          0\n",
      "0  0.937519\n",
      "1 -0.748886\n",
      "2  0.648533 [-3.05744555]\n",
      "         OR\n",
      "0  2.553638\n",
      "1  0.472893\n",
      "2  1.912732\n",
      "[0.04700762]\n"
     ]
    }
   ],
   "source": [
    "X = (users1_dummy[['user_level','purchase_power','education']])\n",
    "y = (users1_dummy['plus'])\n",
    "\n",
    "\n",
    "X_train, X_test, y_train, y_test = train_test_split(X, y, test_size=0.2, random_state=42)\n",
    "\n",
    "# instantiate a logistic regression model\n",
    "model = LogisticRegression(class_weight='balanced')\n",
    "\n",
    "# fit the model to the training data\n",
    "model.fit(X_train, y_train)\n",
    "\n",
    "y_pred = model.predict(X)\n",
    "\n",
    "\n",
    "# make predictions on the testing data\n",
    "y_pred = model.predict(X_test)\n",
    "\n",
    "\n",
    "accuracy = accuracy_score(y_test, y_pred)\n",
    "print('Accuracy:', accuracy)\n",
    "print(classification_report(y, model.predict(X)))\n",
    "\n",
    "\n",
    "print(pd.DataFrame(model.coef_).transpose(), model.intercept_)\n",
    "\n",
    "odds_ratio = pd.DataFrame(np.exp(model.coef_).transpose(), columns=['OR'])\n",
    "print(odds_ratio)\n",
    "print(np.exp(model.intercept_))"
   ]
  },
  {
   "cell_type": "markdown",
   "id": "7b002d56-0099-42ff-86ab-9317b3c759e0",
   "metadata": {
    "tags": []
   },
   "source": [
    "# Consumer Behaviour"
   ]
  },
  {
   "cell_type": "markdown",
   "id": "28bcb890-a889-4d9e-a799-f390f626c9ad",
   "metadata": {
    "tags": []
   },
   "source": [
    "## Data Preparation"
   ]
  },
  {
   "cell_type": "code",
   "execution_count": 12,
   "id": "6be3c4c6-4407-43a4-9b29-82767884e842",
   "metadata": {},
   "outputs": [],
   "source": [
    "# Tables for product quality\n",
    "plus_orders_skus = pd.merge(plus_orders, skus, how='left', on=['sku_ID','type'] )\n",
    "plus_orders_skus = plus_orders_skus.dropna(subset=['attribute1', 'attribute2'])\n",
    "ord_orders_skus = pd.merge(ord_orders, skus, how='left', on=['sku_ID','type'] )\n",
    "ord_orders_skus = ord_orders_skus.dropna(subset=['attribute1', 'attribute2'])\n",
    "# attribute 1\n",
    "plus_orders_skus_att1 = plus_orders_skus.drop(plus_orders_skus[plus_orders_skus['attribute1'] == '-'].index)\n",
    "plus_orders_skus_att1['attribute1'] = plus_orders_skus_att1['attribute1'].astype(float)\n",
    "ord_orders_skus_att1 = ord_orders_skus.drop(ord_orders_skus[ord_orders_skus['attribute1'] == '-'].index)\n",
    "ord_orders_skus_att1['attribute1'] = ord_orders_skus_att1['attribute1'].astype(float)\n",
    "# attribute 2\n",
    "plus_orders_skus_att2 = plus_orders_skus.drop(plus_orders_skus[plus_orders_skus['attribute2'] == '-'].index)\n",
    "plus_orders_skus_att2['attribute2'] = plus_orders_skus_att2['attribute2'].astype(float)\n",
    "ord_orders_skus_att2 = ord_orders_skus.drop(ord_orders_skus[ord_orders_skus['attribute2'] == '-'].index)\n",
    "ord_orders_skus_att2['attribute2'] = ord_orders_skus_att2['attribute2'].astype(float)\n",
    "\n",
    "#Tables for conversion rate\n",
    "# Total clicks for each user\n",
    "clicks1 = (clicks.groupby(['user_ID']).size().reset_index(name='clicks'))\n",
    "clicks1 = clicks1.drop(clicks1[clicks1['user_ID'] == '-'].index)\n",
    "# total orders for each user\n",
    "orders1 = (orders.groupby(['user_ID']).size().reset_index(name='orders'))\n",
    "# merge\n",
    "clicks_orders = pd.merge(clicks1, orders1, how='left', on='user_ID' )\n",
    "# Divide to get conversion rate\n",
    "clicks_orders['conversion_rate'] =  clicks_orders[\"orders\"]/clicks_orders[\"clicks\"]\n",
    "clicks_orders = clicks_orders.dropna(subset=['orders', 'clicks'])\n",
    "#split into plus ord\n",
    "clicks_orders_users = pd.merge(clicks_orders, users, how='left', on='user_ID' )\n",
    "plus_clicks_orders = clicks_orders_users[clicks_orders_users['plus'] == 1]\n",
    "ord_clicks_orders = clicks_orders_users[clicks_orders_users['plus'] == 0]\n",
    "plus_clicks_orders = plus_clicks_orders.drop(['user_level','first_order_month','plus','gender','age',\n",
    "                                              'marital_status','education','city_level','purchase_power'],axis=1)\n",
    "ord_clicks_orders = ord_clicks_orders.drop(['user_level','first_order_month','plus','gender','age',\n",
    "                                            'marital_status','education','city_level','purchase_power'],axis=1)"
   ]
  },
  {
   "cell_type": "markdown",
   "id": "706e391b-5fbd-45a5-8ea8-1489e07147cb",
   "metadata": {
    "tags": []
   },
   "source": [
    "## Product Preferences"
   ]
  },
  {
   "cell_type": "markdown",
   "id": "56970909-730b-4056-b470-43bacc38d4f8",
   "metadata": {
    "tags": []
   },
   "source": [
    "### attribute 1"
   ]
  },
  {
   "cell_type": "code",
   "execution_count": 20,
   "id": "22bfe432-d3b1-48b1-a690-aaf4089374bb",
   "metadata": {},
   "outputs": [
    {
     "name": "stdout",
     "output_type": "stream",
     "text": [
      "0.0026843219008127954\n",
      "0.040278020371525614\n",
      "Test statistic: 15.004914410350596\n",
      "p-value: 0.0\n",
      "Reject null hypothesis. There is a significant difference between the two sample means.\n",
      "mean 2.934336258531829 std dev 0.6408666109206181 std err 0.0023918595198233745 ci (2.9296482851669685, 2.9390242318966893)\n",
      "mean 2.8940582381603033 std dev 0.6787390847496773 std err 0.0012184383876969393 ci (2.891670135238327, 2.8964463410822794)\n"
     ]
    }
   ],
   "source": [
    "# Define the two samples\n",
    "sample1 = plus_orders_skus_att1['attribute1']\n",
    "sample2 = ord_orders_skus_att1['attribute1']\n",
    "\n",
    "# Calculate the means and standard deviations of the two samples\n",
    "mean1 = np.mean(sample1)\n",
    "mean2 = np.mean(sample2)\n",
    "std1 = np.std(sample1, ddof=1)\n",
    "std2 = np.std(sample2, ddof=1)\n",
    "se1 = np.std(sample1, ddof=1) / np.sqrt(len(sample1))\n",
    "se2 = np.std(sample2, ddof=1) / np.sqrt(len(sample2))\n",
    "\n",
    "# Calculate the test statistic and p-value\n",
    "n1, n2 = len(sample1), len(sample2)\n",
    "\n",
    "se = np.sqrt(std1**2/n1 + std2**2/n2)\n",
    "print(se)\n",
    "z = (mean1 - mean2) / se\n",
    "print(mean1 - mean2)\n",
    "p_value = (1 - stats.norm.cdf(abs(z)))\n",
    "\n",
    "# Calculate the critical value for a 95% confidence level\n",
    "alpha = 0.05\n",
    "df = n1 + n2 - 2\n",
    "cv = stats.t.ppf(1 - alpha/2, df)\n",
    "\n",
    "# Calculate the confidence intervals for each sample\n",
    "ci1 = (mean1 - cv * se1, mean1 + cv * se1)\n",
    "ci2 = (mean2 - cv * se2, mean2 + cv * se2)\n",
    "\n",
    "# Print the test statistic and p-value\n",
    "print(\"Test statistic:\", z)\n",
    "print(\"p-value:\", p_value)\n",
    "if p_value < alpha:\n",
    "    print(\"Reject null hypothesis. There is a significant difference between the two sample means.\")\n",
    "else:\n",
    "    print(\"Fail to reject null hypothesis. There is no significant difference between the two sample means.\")\n",
    "    \n",
    "print('mean', mean1, 'std dev', std1, 'std err', se1, 'ci', ci1)\n",
    "print('mean', mean2, 'std dev', std2, 'std err', se2, 'ci', ci2)"
   ]
  },
  {
   "cell_type": "markdown",
   "id": "ecd76192-565b-4f0e-96f9-cfba642c15a7",
   "metadata": {
    "tags": []
   },
   "source": [
    "### attribute 2"
   ]
  },
  {
   "cell_type": "code",
   "execution_count": 19,
   "id": "10d94a97-ed03-481f-9fb2-c903930074a4",
   "metadata": {},
   "outputs": [
    {
     "name": "stdout",
     "output_type": "stream",
     "text": [
      "0.08804766133922809\n",
      "1.9626320999707616\n",
      "Test statistic: 22.29056479318827\n",
      "p-value: 0.0\n",
      "Reject null hypothesis. There is a significant difference between the two sample means.\n",
      "mean 83.63201084314274 std dev 20.704665957042547 std err 0.0794706762200519 ci (83.47625066210936, 83.78777102417611)\n",
      "mean 81.66937874317198 std dev 20.629819646526265 std err 0.037905174955869536 ci (81.59508571844825, 81.7436717678957)\n"
     ]
    }
   ],
   "source": [
    "# Define the two samples\n",
    "sample1 = plus_orders_skus_att2['attribute2']\n",
    "sample2 = ord_orders_skus_att2['attribute2']\n",
    "\n",
    "# Calculate the means and standard deviations of the two samples\n",
    "mean1 = np.mean(sample1)\n",
    "mean2 = np.mean(sample2)\n",
    "std1 = np.std(sample1, ddof=1)\n",
    "std2 = np.std(sample2, ddof=1)\n",
    "se1 = np.std(sample1, ddof=1) / np.sqrt(len(sample1))\n",
    "se2 = np.std(sample2, ddof=1) / np.sqrt(len(sample2))\n",
    "\n",
    "\n",
    "# Calculate the test statistic and p-value\n",
    "n1, n2 = len(sample1), len(sample2)\n",
    "\n",
    "se = np.sqrt(std1**2/n1 + std2**2/n2)\n",
    "print(se)\n",
    "z = (mean1 - mean2) / se\n",
    "print(mean1 - mean2)\n",
    "p_value = (1 - stats.norm.cdf(abs(z)))\n",
    "\n",
    "# Calculate the critical value for a 95% confidence level\n",
    "alpha = 0.05\n",
    "df = n1 + n2 - 2\n",
    "cv = stats.t.ppf(1 - alpha/2, df)\n",
    "\n",
    "# Calculate the confidence intervals for each sample\n",
    "ci1 = (mean1 - cv * se1, mean1 + cv * se1)\n",
    "ci2 = (mean2 - cv * se2, mean2 + cv * se2)\n",
    "\n",
    "# Print the test statistic and p-value\n",
    "print(\"Test statistic:\", z)\n",
    "print(\"p-value:\", p_value)\n",
    "if p_value < alpha:\n",
    "    print(\"Reject null hypothesis. There is a significant difference between the two sample means.\")\n",
    "else:\n",
    "    print(\"Fail to reject null hypothesis. There is no significant difference between the two sample means.\")\n",
    "    \n",
    "print('mean', mean1, 'std dev', std1, 'std err', se1, 'ci', ci1)\n",
    "print('mean', mean2, 'std dev', std2, 'std err', se2, 'ci', ci2)"
   ]
  },
  {
   "cell_type": "markdown",
   "id": "700ed4dc-53cd-4726-9321-66adbd06c0ef",
   "metadata": {
    "tags": []
   },
   "source": [
    "## Product Price"
   ]
  },
  {
   "cell_type": "code",
   "execution_count": 17,
   "id": "350c257f-21a5-4006-985b-b95a4e98a142",
   "metadata": {},
   "outputs": [
    {
     "name": "stdout",
     "output_type": "stream",
     "text": [
      "0.34825302123133\n",
      "9.083348912819446\n",
      "Test statistic: 26.082613384668253\n",
      "p-value: 0.0\n",
      "Reject null hypothesis. There is a significant difference between the two sample means.\n",
      "mean 93.84958465222482 std dev 96.65414803338719 std err 0.3291175307527185 ci (93.20452443075257, 94.49464487369707)\n",
      "mean 84.76623573940537 std dev 69.17142848052978 std err 0.11384997913035638 ci (84.54309328757525, 84.9893781912355)\n"
     ]
    }
   ],
   "source": [
    "# Define the two samples\n",
    "sample1 = plus_orders['final_unit_price']\n",
    "sample2 = ord_orders['final_unit_price']\n",
    "\n",
    "# Calculate the means and standard deviations of the two samples\n",
    "mean1 = np.mean(sample1)\n",
    "mean2 = np.mean(sample2)\n",
    "std1 = np.std(sample1, ddof=1)\n",
    "std2 = np.std(sample2, ddof=1)\n",
    "se1 = np.std(sample1, ddof=1) / np.sqrt(len(sample1))\n",
    "se2 = np.std(sample2, ddof=1) / np.sqrt(len(sample2))\n",
    "\n",
    "# Calculate the test statistic and p-value\n",
    "n1, n2 = len(sample1), len(sample2)\n",
    "\n",
    "se = np.sqrt(std1**2/n1 + std2**2/n2)\n",
    "print(se)\n",
    "z = (mean1 - mean2) / se\n",
    "print(mean1 - mean2)\n",
    "p_value = (1 - stats.norm.cdf(abs(z)))\n",
    "\n",
    "\n",
    "# Calculate the critical value for a 95% confidence level\n",
    "alpha = 0.05\n",
    "df = n1 + n2 - 2\n",
    "cv = stats.t.ppf(1 - alpha/2, df)\n",
    "\n",
    "# Calculate the confidence intervals for each sample\n",
    "ci1 = (mean1 - cv * se1, mean1 + cv * se1)\n",
    "ci2 = (mean2 - cv * se2, mean2 + cv * se2)\n",
    "\n",
    "# Print the test statistic and p-value\n",
    "print(\"Test statistic:\", z)\n",
    "print(\"p-value:\", p_value)\n",
    "if p_value < alpha:\n",
    "    print(\"Reject null hypothesis. There is a significant difference between the two sample means.\")\n",
    "else:\n",
    "    print(\"Fail to reject null hypothesis. There is no significant difference between the two sample means.\")\n",
    "    \n",
    "print('mean', mean1, 'std dev', std1, 'std err', se1, 'ci', ci1)\n",
    "print('mean', mean2, 'std dev', std2, 'std err', se2, 'ci', ci2)"
   ]
  },
  {
   "cell_type": "markdown",
   "id": "0311fae1-0a63-4c8f-bb54-e48f4cb1fd87",
   "metadata": {
    "tags": []
   },
   "source": [
    "## Impulse Buying"
   ]
  },
  {
   "cell_type": "code",
   "execution_count": 18,
   "id": "d73a7fc8-a9ae-4834-9160-108ca4db6c20",
   "metadata": {},
   "outputs": [
    {
     "name": "stdout",
     "output_type": "stream",
     "text": [
      "0.0011353025317902402\n",
      "0.0017810866502908362\n",
      "Test statistic: 1.5688211735794066\n",
      "p-value: 0.05834480664595709\n",
      "Fail to reject null hypothesis. There is no significant difference between the two sample means.\n",
      "mean 0.21438914607047205 std dev 0.2640372890422112 std err 0.00047545970143840705 ci (0.21345725917848848, 0.2153210329624556)\n",
      "mean 0.2126080594201812 std dev 0.26775042361626183 std err 0.0010309461241972977 ci (0.21058743563950275, 0.21462868320085968)\n"
     ]
    }
   ],
   "source": [
    "# Define the two samples\n",
    "sample1 = ord_clicks_orders['conversion_rate']\n",
    "sample2 = plus_clicks_orders['conversion_rate']\n",
    "\n",
    "# Calculate the means and standard deviations of the two samples\n",
    "mean1 = np.mean(sample1)\n",
    "mean2 = np.mean(sample2)\n",
    "std1 = np.std(sample1, ddof=1)\n",
    "std2 = np.std(sample2, ddof=1)\n",
    "se1 = np.std(sample1, ddof=1) / np.sqrt(len(sample1))\n",
    "se2 = np.std(sample2, ddof=1) / np.sqrt(len(sample2))\n",
    "\n",
    "# Calculate the test statistic and p-value\n",
    "n1, n2 = len(sample1), len(sample2)\n",
    "\n",
    "se = np.sqrt(std1**2/n1 + std2**2/n2)\n",
    "print(se)\n",
    "z = (mean1 - mean2) / se\n",
    "print(mean1 - mean2)\n",
    "p_value = (1 - stats.norm.cdf(abs(z)))\n",
    "\n",
    "# Calculate the critical value for a 95% confidence level\n",
    "alpha = 0.05\n",
    "df = n1 + n2 - 2\n",
    "cv = stats.t.ppf(1 - alpha/2, df)\n",
    "\n",
    "# Calculate the confidence intervals for each sample\n",
    "ci1 = (mean1 - cv * se1, mean1 + cv * se1)\n",
    "ci2 = (mean2 - cv * se2, mean2 + cv * se2)\n",
    "\n",
    "# Print the test statistic and p-value\n",
    "print(\"Test statistic:\", z)\n",
    "print(\"p-value:\", p_value)\n",
    "if p_value < alpha:\n",
    "    print(\"Reject null hypothesis. There is a significant difference between the two sample means.\")\n",
    "else:\n",
    "    print(\"Fail to reject null hypothesis. There is no significant difference between the two sample means.\")\n",
    "    \n",
    "print('mean', mean1, 'std dev', std1, 'std err', se1, 'ci', ci1)\n",
    "print('mean', mean2, 'std dev', std2, 'std err', se2, 'ci', ci2)"
   ]
  }
 ],
 "metadata": {
  "kernelspec": {
   "display_name": "Python 3 (ipykernel)",
   "language": "python",
   "name": "python3"
  },
  "language_info": {
   "codemirror_mode": {
    "name": "ipython",
    "version": 3
   },
   "file_extension": ".py",
   "mimetype": "text/x-python",
   "name": "python",
   "nbconvert_exporter": "python",
   "pygments_lexer": "ipython3",
   "version": "3.9.13"
  }
 },
 "nbformat": 4,
 "nbformat_minor": 5
}
